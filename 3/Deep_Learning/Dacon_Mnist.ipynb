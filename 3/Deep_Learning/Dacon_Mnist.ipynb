{
  "nbformat": 4,
  "nbformat_minor": 0,
  "metadata": {
    "colab": {
      "name": "0829_94퍼근처.ipynb",
      "provenance": []
    },
    "kernelspec": {
      "name": "python3",
      "display_name": "Python 3"
    },
    "accelerator": "GPU"
  },
  "cells": [
    {
      "cell_type": "code",
      "metadata": {
        "id": "vuF3QMkwIrK_"
      },
      "source": [
        "import time\n",
        "import random\n",
        "import datetime\n",
        "from collections import defaultdict\n",
        "\n",
        "import numpy as np\n",
        "import pandas as pd\n",
        "import matplotlib.pyplot as plt\n",
        "%matplotlib inline\n",
        "\n",
        "from tensorflow.keras.models import Sequential, Model\n",
        "from tensorflow.keras.layers import (\n",
        "    Conv2D, BatchNormalization, Dropout, MaxPool2D,\n",
        "    Flatten, Dense, Input, Concatenate, LeakyReLU, Add\n",
        "    )\n",
        "\n",
        "# LOAD LIBRARIES\n",
        "import pandas as pd\n",
        "import numpy as np\n",
        "from sklearn.model_selection import train_test_split\n",
        "from keras.utils.np_utils import to_categorical\n",
        "from tensorflow.keras.preprocessing.image import ImageDataGenerator\n",
        "from tensorflow.keras.callbacks import LearningRateScheduler\n",
        "from tensorflow import keras\n",
        "# How to check if Keras is using GPU?\n",
        "\n",
        "from keras import backend as K\n",
        "\n",
        "# K.tensorflow_backend._get_available_gpus()\n",
        "\n",
        "train = pd.read_csv('./drive/My Drive/dacon/emnist/train.csv')\n",
        "test  = pd.read_csv('./drive/My Drive/dacon/emnist/test.csv')\n",
        "submission = pd.read_csv('./drive/My Drive/dacon/emnist/submission.csv')"
      ],
      "execution_count": null,
      "outputs": []
    },
    {
      "cell_type": "code",
      "metadata": {
        "id": "OcEG85yhkAGw",
        "colab": {
          "base_uri": "https://localhost:8080/",
          "height": 253
        },
        "outputId": "929b380b-0310-4eca-ae9a-3619be6f6c66"
      },
      "source": [
        "train.head()"
      ],
      "execution_count": null,
      "outputs": [
        {
          "output_type": "execute_result",
          "data": {
            "text/html": [
              "<div>\n",
              "<style scoped>\n",
              "    .dataframe tbody tr th:only-of-type {\n",
              "        vertical-align: middle;\n",
              "    }\n",
              "\n",
              "    .dataframe tbody tr th {\n",
              "        vertical-align: top;\n",
              "    }\n",
              "\n",
              "    .dataframe thead th {\n",
              "        text-align: right;\n",
              "    }\n",
              "</style>\n",
              "<table border=\"1\" class=\"dataframe\">\n",
              "  <thead>\n",
              "    <tr style=\"text-align: right;\">\n",
              "      <th></th>\n",
              "      <th>id</th>\n",
              "      <th>digit</th>\n",
              "      <th>letter</th>\n",
              "      <th>0</th>\n",
              "      <th>1</th>\n",
              "      <th>2</th>\n",
              "      <th>3</th>\n",
              "      <th>4</th>\n",
              "      <th>5</th>\n",
              "      <th>6</th>\n",
              "      <th>7</th>\n",
              "      <th>8</th>\n",
              "      <th>9</th>\n",
              "      <th>10</th>\n",
              "      <th>11</th>\n",
              "      <th>12</th>\n",
              "      <th>13</th>\n",
              "      <th>14</th>\n",
              "      <th>15</th>\n",
              "      <th>16</th>\n",
              "      <th>17</th>\n",
              "      <th>18</th>\n",
              "      <th>19</th>\n",
              "      <th>20</th>\n",
              "      <th>21</th>\n",
              "      <th>22</th>\n",
              "      <th>23</th>\n",
              "      <th>24</th>\n",
              "      <th>25</th>\n",
              "      <th>26</th>\n",
              "      <th>27</th>\n",
              "      <th>28</th>\n",
              "      <th>29</th>\n",
              "      <th>30</th>\n",
              "      <th>31</th>\n",
              "      <th>32</th>\n",
              "      <th>33</th>\n",
              "      <th>34</th>\n",
              "      <th>35</th>\n",
              "      <th>36</th>\n",
              "      <th>...</th>\n",
              "      <th>744</th>\n",
              "      <th>745</th>\n",
              "      <th>746</th>\n",
              "      <th>747</th>\n",
              "      <th>748</th>\n",
              "      <th>749</th>\n",
              "      <th>750</th>\n",
              "      <th>751</th>\n",
              "      <th>752</th>\n",
              "      <th>753</th>\n",
              "      <th>754</th>\n",
              "      <th>755</th>\n",
              "      <th>756</th>\n",
              "      <th>757</th>\n",
              "      <th>758</th>\n",
              "      <th>759</th>\n",
              "      <th>760</th>\n",
              "      <th>761</th>\n",
              "      <th>762</th>\n",
              "      <th>763</th>\n",
              "      <th>764</th>\n",
              "      <th>765</th>\n",
              "      <th>766</th>\n",
              "      <th>767</th>\n",
              "      <th>768</th>\n",
              "      <th>769</th>\n",
              "      <th>770</th>\n",
              "      <th>771</th>\n",
              "      <th>772</th>\n",
              "      <th>773</th>\n",
              "      <th>774</th>\n",
              "      <th>775</th>\n",
              "      <th>776</th>\n",
              "      <th>777</th>\n",
              "      <th>778</th>\n",
              "      <th>779</th>\n",
              "      <th>780</th>\n",
              "      <th>781</th>\n",
              "      <th>782</th>\n",
              "      <th>783</th>\n",
              "    </tr>\n",
              "  </thead>\n",
              "  <tbody>\n",
              "    <tr>\n",
              "      <th>0</th>\n",
              "      <td>1</td>\n",
              "      <td>5</td>\n",
              "      <td>L</td>\n",
              "      <td>1</td>\n",
              "      <td>1</td>\n",
              "      <td>1</td>\n",
              "      <td>4</td>\n",
              "      <td>3</td>\n",
              "      <td>0</td>\n",
              "      <td>0</td>\n",
              "      <td>4</td>\n",
              "      <td>4</td>\n",
              "      <td>3</td>\n",
              "      <td>0</td>\n",
              "      <td>4</td>\n",
              "      <td>3</td>\n",
              "      <td>3</td>\n",
              "      <td>3</td>\n",
              "      <td>4</td>\n",
              "      <td>4</td>\n",
              "      <td>0</td>\n",
              "      <td>0</td>\n",
              "      <td>1</td>\n",
              "      <td>1</td>\n",
              "      <td>3</td>\n",
              "      <td>4</td>\n",
              "      <td>0</td>\n",
              "      <td>4</td>\n",
              "      <td>2</td>\n",
              "      <td>0</td>\n",
              "      <td>4</td>\n",
              "      <td>0</td>\n",
              "      <td>1</td>\n",
              "      <td>3</td>\n",
              "      <td>1</td>\n",
              "      <td>0</td>\n",
              "      <td>4</td>\n",
              "      <td>1</td>\n",
              "      <td>1</td>\n",
              "      <td>3</td>\n",
              "      <td>...</td>\n",
              "      <td>4</td>\n",
              "      <td>3</td>\n",
              "      <td>4</td>\n",
              "      <td>1</td>\n",
              "      <td>3</td>\n",
              "      <td>0</td>\n",
              "      <td>0</td>\n",
              "      <td>1</td>\n",
              "      <td>3</td>\n",
              "      <td>3</td>\n",
              "      <td>3</td>\n",
              "      <td>0</td>\n",
              "      <td>3</td>\n",
              "      <td>2</td>\n",
              "      <td>2</td>\n",
              "      <td>1</td>\n",
              "      <td>0</td>\n",
              "      <td>1</td>\n",
              "      <td>0</td>\n",
              "      <td>0</td>\n",
              "      <td>3</td>\n",
              "      <td>0</td>\n",
              "      <td>0</td>\n",
              "      <td>4</td>\n",
              "      <td>2</td>\n",
              "      <td>0</td>\n",
              "      <td>3</td>\n",
              "      <td>4</td>\n",
              "      <td>1</td>\n",
              "      <td>1</td>\n",
              "      <td>2</td>\n",
              "      <td>1</td>\n",
              "      <td>0</td>\n",
              "      <td>1</td>\n",
              "      <td>2</td>\n",
              "      <td>4</td>\n",
              "      <td>4</td>\n",
              "      <td>4</td>\n",
              "      <td>3</td>\n",
              "      <td>4</td>\n",
              "    </tr>\n",
              "    <tr>\n",
              "      <th>1</th>\n",
              "      <td>2</td>\n",
              "      <td>0</td>\n",
              "      <td>B</td>\n",
              "      <td>0</td>\n",
              "      <td>4</td>\n",
              "      <td>0</td>\n",
              "      <td>0</td>\n",
              "      <td>4</td>\n",
              "      <td>1</td>\n",
              "      <td>1</td>\n",
              "      <td>1</td>\n",
              "      <td>4</td>\n",
              "      <td>2</td>\n",
              "      <td>0</td>\n",
              "      <td>3</td>\n",
              "      <td>4</td>\n",
              "      <td>0</td>\n",
              "      <td>0</td>\n",
              "      <td>2</td>\n",
              "      <td>3</td>\n",
              "      <td>4</td>\n",
              "      <td>0</td>\n",
              "      <td>3</td>\n",
              "      <td>4</td>\n",
              "      <td>3</td>\n",
              "      <td>0</td>\n",
              "      <td>2</td>\n",
              "      <td>2</td>\n",
              "      <td>1</td>\n",
              "      <td>4</td>\n",
              "      <td>2</td>\n",
              "      <td>3</td>\n",
              "      <td>3</td>\n",
              "      <td>4</td>\n",
              "      <td>1</td>\n",
              "      <td>2</td>\n",
              "      <td>4</td>\n",
              "      <td>2</td>\n",
              "      <td>0</td>\n",
              "      <td>3</td>\n",
              "      <td>...</td>\n",
              "      <td>4</td>\n",
              "      <td>2</td>\n",
              "      <td>3</td>\n",
              "      <td>0</td>\n",
              "      <td>0</td>\n",
              "      <td>0</td>\n",
              "      <td>0</td>\n",
              "      <td>4</td>\n",
              "      <td>3</td>\n",
              "      <td>2</td>\n",
              "      <td>2</td>\n",
              "      <td>4</td>\n",
              "      <td>2</td>\n",
              "      <td>1</td>\n",
              "      <td>1</td>\n",
              "      <td>1</td>\n",
              "      <td>3</td>\n",
              "      <td>3</td>\n",
              "      <td>1</td>\n",
              "      <td>2</td>\n",
              "      <td>4</td>\n",
              "      <td>4</td>\n",
              "      <td>4</td>\n",
              "      <td>2</td>\n",
              "      <td>2</td>\n",
              "      <td>4</td>\n",
              "      <td>4</td>\n",
              "      <td>0</td>\n",
              "      <td>4</td>\n",
              "      <td>2</td>\n",
              "      <td>0</td>\n",
              "      <td>3</td>\n",
              "      <td>0</td>\n",
              "      <td>1</td>\n",
              "      <td>4</td>\n",
              "      <td>1</td>\n",
              "      <td>4</td>\n",
              "      <td>2</td>\n",
              "      <td>1</td>\n",
              "      <td>2</td>\n",
              "    </tr>\n",
              "    <tr>\n",
              "      <th>2</th>\n",
              "      <td>3</td>\n",
              "      <td>4</td>\n",
              "      <td>L</td>\n",
              "      <td>1</td>\n",
              "      <td>1</td>\n",
              "      <td>2</td>\n",
              "      <td>2</td>\n",
              "      <td>1</td>\n",
              "      <td>1</td>\n",
              "      <td>1</td>\n",
              "      <td>0</td>\n",
              "      <td>2</td>\n",
              "      <td>1</td>\n",
              "      <td>3</td>\n",
              "      <td>2</td>\n",
              "      <td>2</td>\n",
              "      <td>2</td>\n",
              "      <td>4</td>\n",
              "      <td>1</td>\n",
              "      <td>1</td>\n",
              "      <td>4</td>\n",
              "      <td>1</td>\n",
              "      <td>0</td>\n",
              "      <td>1</td>\n",
              "      <td>3</td>\n",
              "      <td>4</td>\n",
              "      <td>2</td>\n",
              "      <td>2</td>\n",
              "      <td>2</td>\n",
              "      <td>4</td>\n",
              "      <td>1</td>\n",
              "      <td>1</td>\n",
              "      <td>2</td>\n",
              "      <td>0</td>\n",
              "      <td>3</td>\n",
              "      <td>0</td>\n",
              "      <td>2</td>\n",
              "      <td>3</td>\n",
              "      <td>4</td>\n",
              "      <td>0</td>\n",
              "      <td>...</td>\n",
              "      <td>3</td>\n",
              "      <td>0</td>\n",
              "      <td>4</td>\n",
              "      <td>0</td>\n",
              "      <td>3</td>\n",
              "      <td>0</td>\n",
              "      <td>2</td>\n",
              "      <td>0</td>\n",
              "      <td>1</td>\n",
              "      <td>4</td>\n",
              "      <td>2</td>\n",
              "      <td>3</td>\n",
              "      <td>4</td>\n",
              "      <td>4</td>\n",
              "      <td>4</td>\n",
              "      <td>0</td>\n",
              "      <td>2</td>\n",
              "      <td>0</td>\n",
              "      <td>4</td>\n",
              "      <td>4</td>\n",
              "      <td>1</td>\n",
              "      <td>3</td>\n",
              "      <td>0</td>\n",
              "      <td>3</td>\n",
              "      <td>2</td>\n",
              "      <td>0</td>\n",
              "      <td>2</td>\n",
              "      <td>3</td>\n",
              "      <td>0</td>\n",
              "      <td>2</td>\n",
              "      <td>3</td>\n",
              "      <td>3</td>\n",
              "      <td>3</td>\n",
              "      <td>0</td>\n",
              "      <td>2</td>\n",
              "      <td>0</td>\n",
              "      <td>3</td>\n",
              "      <td>0</td>\n",
              "      <td>2</td>\n",
              "      <td>2</td>\n",
              "    </tr>\n",
              "    <tr>\n",
              "      <th>3</th>\n",
              "      <td>4</td>\n",
              "      <td>9</td>\n",
              "      <td>D</td>\n",
              "      <td>1</td>\n",
              "      <td>2</td>\n",
              "      <td>0</td>\n",
              "      <td>2</td>\n",
              "      <td>0</td>\n",
              "      <td>4</td>\n",
              "      <td>0</td>\n",
              "      <td>3</td>\n",
              "      <td>4</td>\n",
              "      <td>3</td>\n",
              "      <td>1</td>\n",
              "      <td>0</td>\n",
              "      <td>3</td>\n",
              "      <td>2</td>\n",
              "      <td>2</td>\n",
              "      <td>0</td>\n",
              "      <td>3</td>\n",
              "      <td>4</td>\n",
              "      <td>1</td>\n",
              "      <td>0</td>\n",
              "      <td>4</td>\n",
              "      <td>1</td>\n",
              "      <td>2</td>\n",
              "      <td>2</td>\n",
              "      <td>3</td>\n",
              "      <td>2</td>\n",
              "      <td>2</td>\n",
              "      <td>0</td>\n",
              "      <td>2</td>\n",
              "      <td>0</td>\n",
              "      <td>3</td>\n",
              "      <td>0</td>\n",
              "      <td>3</td>\n",
              "      <td>2</td>\n",
              "      <td>4</td>\n",
              "      <td>0</td>\n",
              "      <td>0</td>\n",
              "      <td>...</td>\n",
              "      <td>0</td>\n",
              "      <td>3</td>\n",
              "      <td>0</td>\n",
              "      <td>1</td>\n",
              "      <td>4</td>\n",
              "      <td>1</td>\n",
              "      <td>3</td>\n",
              "      <td>1</td>\n",
              "      <td>2</td>\n",
              "      <td>1</td>\n",
              "      <td>1</td>\n",
              "      <td>1</td>\n",
              "      <td>2</td>\n",
              "      <td>2</td>\n",
              "      <td>2</td>\n",
              "      <td>4</td>\n",
              "      <td>3</td>\n",
              "      <td>4</td>\n",
              "      <td>3</td>\n",
              "      <td>0</td>\n",
              "      <td>4</td>\n",
              "      <td>1</td>\n",
              "      <td>2</td>\n",
              "      <td>4</td>\n",
              "      <td>1</td>\n",
              "      <td>4</td>\n",
              "      <td>0</td>\n",
              "      <td>1</td>\n",
              "      <td>0</td>\n",
              "      <td>4</td>\n",
              "      <td>3</td>\n",
              "      <td>3</td>\n",
              "      <td>2</td>\n",
              "      <td>0</td>\n",
              "      <td>1</td>\n",
              "      <td>4</td>\n",
              "      <td>0</td>\n",
              "      <td>0</td>\n",
              "      <td>1</td>\n",
              "      <td>1</td>\n",
              "    </tr>\n",
              "    <tr>\n",
              "      <th>4</th>\n",
              "      <td>5</td>\n",
              "      <td>6</td>\n",
              "      <td>A</td>\n",
              "      <td>3</td>\n",
              "      <td>0</td>\n",
              "      <td>2</td>\n",
              "      <td>4</td>\n",
              "      <td>0</td>\n",
              "      <td>3</td>\n",
              "      <td>0</td>\n",
              "      <td>4</td>\n",
              "      <td>2</td>\n",
              "      <td>4</td>\n",
              "      <td>2</td>\n",
              "      <td>1</td>\n",
              "      <td>4</td>\n",
              "      <td>1</td>\n",
              "      <td>1</td>\n",
              "      <td>4</td>\n",
              "      <td>4</td>\n",
              "      <td>0</td>\n",
              "      <td>2</td>\n",
              "      <td>3</td>\n",
              "      <td>4</td>\n",
              "      <td>4</td>\n",
              "      <td>3</td>\n",
              "      <td>3</td>\n",
              "      <td>3</td>\n",
              "      <td>3</td>\n",
              "      <td>4</td>\n",
              "      <td>1</td>\n",
              "      <td>0</td>\n",
              "      <td>3</td>\n",
              "      <td>0</td>\n",
              "      <td>3</td>\n",
              "      <td>0</td>\n",
              "      <td>0</td>\n",
              "      <td>0</td>\n",
              "      <td>1</td>\n",
              "      <td>1</td>\n",
              "      <td>...</td>\n",
              "      <td>2</td>\n",
              "      <td>1</td>\n",
              "      <td>3</td>\n",
              "      <td>2</td>\n",
              "      <td>1</td>\n",
              "      <td>4</td>\n",
              "      <td>2</td>\n",
              "      <td>3</td>\n",
              "      <td>2</td>\n",
              "      <td>2</td>\n",
              "      <td>1</td>\n",
              "      <td>0</td>\n",
              "      <td>4</td>\n",
              "      <td>2</td>\n",
              "      <td>2</td>\n",
              "      <td>1</td>\n",
              "      <td>2</td>\n",
              "      <td>1</td>\n",
              "      <td>0</td>\n",
              "      <td>3</td>\n",
              "      <td>2</td>\n",
              "      <td>2</td>\n",
              "      <td>2</td>\n",
              "      <td>2</td>\n",
              "      <td>1</td>\n",
              "      <td>4</td>\n",
              "      <td>2</td>\n",
              "      <td>1</td>\n",
              "      <td>2</td>\n",
              "      <td>1</td>\n",
              "      <td>4</td>\n",
              "      <td>4</td>\n",
              "      <td>3</td>\n",
              "      <td>2</td>\n",
              "      <td>1</td>\n",
              "      <td>3</td>\n",
              "      <td>4</td>\n",
              "      <td>3</td>\n",
              "      <td>1</td>\n",
              "      <td>2</td>\n",
              "    </tr>\n",
              "  </tbody>\n",
              "</table>\n",
              "<p>5 rows × 787 columns</p>\n",
              "</div>"
            ],
            "text/plain": [
              "   id  digit letter  0  1  2  3  4  ...  776  777  778  779  780  781  782  783\n",
              "0   1      5      L  1  1  1  4  3  ...    0    1    2    4    4    4    3    4\n",
              "1   2      0      B  0  4  0  0  4  ...    0    1    4    1    4    2    1    2\n",
              "2   3      4      L  1  1  2  2  1  ...    3    0    2    0    3    0    2    2\n",
              "3   4      9      D  1  2  0  2  0  ...    2    0    1    4    0    0    1    1\n",
              "4   5      6      A  3  0  2  4  0  ...    3    2    1    3    4    3    1    2\n",
              "\n",
              "[5 rows x 787 columns]"
            ]
          },
          "metadata": {
            "tags": []
          },
          "execution_count": 2
        }
      ]
    },
    {
      "cell_type": "code",
      "metadata": {
        "id": "b8b24-5TkBCC",
        "colab": {
          "base_uri": "https://localhost:8080/",
          "height": 253
        },
        "outputId": "ffe5dc53-18a9-4332-c138-c27d9ff57f90"
      },
      "source": [
        "test.head()"
      ],
      "execution_count": null,
      "outputs": [
        {
          "output_type": "execute_result",
          "data": {
            "text/html": [
              "<div>\n",
              "<style scoped>\n",
              "    .dataframe tbody tr th:only-of-type {\n",
              "        vertical-align: middle;\n",
              "    }\n",
              "\n",
              "    .dataframe tbody tr th {\n",
              "        vertical-align: top;\n",
              "    }\n",
              "\n",
              "    .dataframe thead th {\n",
              "        text-align: right;\n",
              "    }\n",
              "</style>\n",
              "<table border=\"1\" class=\"dataframe\">\n",
              "  <thead>\n",
              "    <tr style=\"text-align: right;\">\n",
              "      <th></th>\n",
              "      <th>id</th>\n",
              "      <th>letter</th>\n",
              "      <th>0</th>\n",
              "      <th>1</th>\n",
              "      <th>2</th>\n",
              "      <th>3</th>\n",
              "      <th>4</th>\n",
              "      <th>5</th>\n",
              "      <th>6</th>\n",
              "      <th>7</th>\n",
              "      <th>8</th>\n",
              "      <th>9</th>\n",
              "      <th>10</th>\n",
              "      <th>11</th>\n",
              "      <th>12</th>\n",
              "      <th>13</th>\n",
              "      <th>14</th>\n",
              "      <th>15</th>\n",
              "      <th>16</th>\n",
              "      <th>17</th>\n",
              "      <th>18</th>\n",
              "      <th>19</th>\n",
              "      <th>20</th>\n",
              "      <th>21</th>\n",
              "      <th>22</th>\n",
              "      <th>23</th>\n",
              "      <th>24</th>\n",
              "      <th>25</th>\n",
              "      <th>26</th>\n",
              "      <th>27</th>\n",
              "      <th>28</th>\n",
              "      <th>29</th>\n",
              "      <th>30</th>\n",
              "      <th>31</th>\n",
              "      <th>32</th>\n",
              "      <th>33</th>\n",
              "      <th>34</th>\n",
              "      <th>35</th>\n",
              "      <th>36</th>\n",
              "      <th>37</th>\n",
              "      <th>...</th>\n",
              "      <th>744</th>\n",
              "      <th>745</th>\n",
              "      <th>746</th>\n",
              "      <th>747</th>\n",
              "      <th>748</th>\n",
              "      <th>749</th>\n",
              "      <th>750</th>\n",
              "      <th>751</th>\n",
              "      <th>752</th>\n",
              "      <th>753</th>\n",
              "      <th>754</th>\n",
              "      <th>755</th>\n",
              "      <th>756</th>\n",
              "      <th>757</th>\n",
              "      <th>758</th>\n",
              "      <th>759</th>\n",
              "      <th>760</th>\n",
              "      <th>761</th>\n",
              "      <th>762</th>\n",
              "      <th>763</th>\n",
              "      <th>764</th>\n",
              "      <th>765</th>\n",
              "      <th>766</th>\n",
              "      <th>767</th>\n",
              "      <th>768</th>\n",
              "      <th>769</th>\n",
              "      <th>770</th>\n",
              "      <th>771</th>\n",
              "      <th>772</th>\n",
              "      <th>773</th>\n",
              "      <th>774</th>\n",
              "      <th>775</th>\n",
              "      <th>776</th>\n",
              "      <th>777</th>\n",
              "      <th>778</th>\n",
              "      <th>779</th>\n",
              "      <th>780</th>\n",
              "      <th>781</th>\n",
              "      <th>782</th>\n",
              "      <th>783</th>\n",
              "    </tr>\n",
              "  </thead>\n",
              "  <tbody>\n",
              "    <tr>\n",
              "      <th>0</th>\n",
              "      <td>2049</td>\n",
              "      <td>L</td>\n",
              "      <td>0</td>\n",
              "      <td>4</td>\n",
              "      <td>0</td>\n",
              "      <td>2</td>\n",
              "      <td>4</td>\n",
              "      <td>2</td>\n",
              "      <td>3</td>\n",
              "      <td>1</td>\n",
              "      <td>0</td>\n",
              "      <td>0</td>\n",
              "      <td>1</td>\n",
              "      <td>0</td>\n",
              "      <td>1</td>\n",
              "      <td>3</td>\n",
              "      <td>4</td>\n",
              "      <td>4</td>\n",
              "      <td>0</td>\n",
              "      <td>0</td>\n",
              "      <td>2</td>\n",
              "      <td>4</td>\n",
              "      <td>4</td>\n",
              "      <td>1</td>\n",
              "      <td>3</td>\n",
              "      <td>3</td>\n",
              "      <td>2</td>\n",
              "      <td>2</td>\n",
              "      <td>4</td>\n",
              "      <td>1</td>\n",
              "      <td>0</td>\n",
              "      <td>1</td>\n",
              "      <td>2</td>\n",
              "      <td>2</td>\n",
              "      <td>1</td>\n",
              "      <td>2</td>\n",
              "      <td>2</td>\n",
              "      <td>1</td>\n",
              "      <td>4</td>\n",
              "      <td>0</td>\n",
              "      <td>...</td>\n",
              "      <td>1</td>\n",
              "      <td>3</td>\n",
              "      <td>1</td>\n",
              "      <td>1</td>\n",
              "      <td>3</td>\n",
              "      <td>3</td>\n",
              "      <td>4</td>\n",
              "      <td>1</td>\n",
              "      <td>3</td>\n",
              "      <td>1</td>\n",
              "      <td>2</td>\n",
              "      <td>4</td>\n",
              "      <td>1</td>\n",
              "      <td>2</td>\n",
              "      <td>0</td>\n",
              "      <td>3</td>\n",
              "      <td>1</td>\n",
              "      <td>2</td>\n",
              "      <td>4</td>\n",
              "      <td>0</td>\n",
              "      <td>2</td>\n",
              "      <td>1</td>\n",
              "      <td>2</td>\n",
              "      <td>4</td>\n",
              "      <td>1</td>\n",
              "      <td>1</td>\n",
              "      <td>3</td>\n",
              "      <td>2</td>\n",
              "      <td>1</td>\n",
              "      <td>0</td>\n",
              "      <td>2</td>\n",
              "      <td>0</td>\n",
              "      <td>4</td>\n",
              "      <td>2</td>\n",
              "      <td>2</td>\n",
              "      <td>4</td>\n",
              "      <td>3</td>\n",
              "      <td>4</td>\n",
              "      <td>1</td>\n",
              "      <td>4</td>\n",
              "    </tr>\n",
              "    <tr>\n",
              "      <th>1</th>\n",
              "      <td>2050</td>\n",
              "      <td>C</td>\n",
              "      <td>4</td>\n",
              "      <td>1</td>\n",
              "      <td>4</td>\n",
              "      <td>0</td>\n",
              "      <td>1</td>\n",
              "      <td>1</td>\n",
              "      <td>0</td>\n",
              "      <td>2</td>\n",
              "      <td>2</td>\n",
              "      <td>1</td>\n",
              "      <td>0</td>\n",
              "      <td>3</td>\n",
              "      <td>0</td>\n",
              "      <td>1</td>\n",
              "      <td>1</td>\n",
              "      <td>4</td>\n",
              "      <td>1</td>\n",
              "      <td>2</td>\n",
              "      <td>0</td>\n",
              "      <td>2</td>\n",
              "      <td>2</td>\n",
              "      <td>0</td>\n",
              "      <td>4</td>\n",
              "      <td>3</td>\n",
              "      <td>4</td>\n",
              "      <td>0</td>\n",
              "      <td>2</td>\n",
              "      <td>4</td>\n",
              "      <td>4</td>\n",
              "      <td>2</td>\n",
              "      <td>1</td>\n",
              "      <td>2</td>\n",
              "      <td>4</td>\n",
              "      <td>0</td>\n",
              "      <td>4</td>\n",
              "      <td>2</td>\n",
              "      <td>0</td>\n",
              "      <td>2</td>\n",
              "      <td>...</td>\n",
              "      <td>3</td>\n",
              "      <td>4</td>\n",
              "      <td>2</td>\n",
              "      <td>6</td>\n",
              "      <td>2</td>\n",
              "      <td>2</td>\n",
              "      <td>0</td>\n",
              "      <td>1</td>\n",
              "      <td>2</td>\n",
              "      <td>4</td>\n",
              "      <td>1</td>\n",
              "      <td>1</td>\n",
              "      <td>3</td>\n",
              "      <td>3</td>\n",
              "      <td>2</td>\n",
              "      <td>3</td>\n",
              "      <td>4</td>\n",
              "      <td>2</td>\n",
              "      <td>2</td>\n",
              "      <td>4</td>\n",
              "      <td>3</td>\n",
              "      <td>1</td>\n",
              "      <td>3</td>\n",
              "      <td>3</td>\n",
              "      <td>3</td>\n",
              "      <td>1</td>\n",
              "      <td>3</td>\n",
              "      <td>4</td>\n",
              "      <td>4</td>\n",
              "      <td>2</td>\n",
              "      <td>0</td>\n",
              "      <td>3</td>\n",
              "      <td>2</td>\n",
              "      <td>4</td>\n",
              "      <td>2</td>\n",
              "      <td>4</td>\n",
              "      <td>2</td>\n",
              "      <td>2</td>\n",
              "      <td>1</td>\n",
              "      <td>2</td>\n",
              "    </tr>\n",
              "    <tr>\n",
              "      <th>2</th>\n",
              "      <td>2051</td>\n",
              "      <td>S</td>\n",
              "      <td>0</td>\n",
              "      <td>4</td>\n",
              "      <td>0</td>\n",
              "      <td>1</td>\n",
              "      <td>3</td>\n",
              "      <td>2</td>\n",
              "      <td>3</td>\n",
              "      <td>0</td>\n",
              "      <td>2</td>\n",
              "      <td>1</td>\n",
              "      <td>2</td>\n",
              "      <td>0</td>\n",
              "      <td>1</td>\n",
              "      <td>0</td>\n",
              "      <td>3</td>\n",
              "      <td>0</td>\n",
              "      <td>1</td>\n",
              "      <td>4</td>\n",
              "      <td>3</td>\n",
              "      <td>0</td>\n",
              "      <td>0</td>\n",
              "      <td>3</td>\n",
              "      <td>0</td>\n",
              "      <td>4</td>\n",
              "      <td>1</td>\n",
              "      <td>0</td>\n",
              "      <td>3</td>\n",
              "      <td>2</td>\n",
              "      <td>0</td>\n",
              "      <td>4</td>\n",
              "      <td>1</td>\n",
              "      <td>2</td>\n",
              "      <td>0</td>\n",
              "      <td>0</td>\n",
              "      <td>1</td>\n",
              "      <td>3</td>\n",
              "      <td>0</td>\n",
              "      <td>2</td>\n",
              "      <td>...</td>\n",
              "      <td>0</td>\n",
              "      <td>4</td>\n",
              "      <td>4</td>\n",
              "      <td>3</td>\n",
              "      <td>4</td>\n",
              "      <td>1</td>\n",
              "      <td>4</td>\n",
              "      <td>2</td>\n",
              "      <td>3</td>\n",
              "      <td>4</td>\n",
              "      <td>1</td>\n",
              "      <td>2</td>\n",
              "      <td>0</td>\n",
              "      <td>2</td>\n",
              "      <td>2</td>\n",
              "      <td>3</td>\n",
              "      <td>3</td>\n",
              "      <td>1</td>\n",
              "      <td>1</td>\n",
              "      <td>4</td>\n",
              "      <td>1</td>\n",
              "      <td>2</td>\n",
              "      <td>4</td>\n",
              "      <td>0</td>\n",
              "      <td>0</td>\n",
              "      <td>0</td>\n",
              "      <td>0</td>\n",
              "      <td>2</td>\n",
              "      <td>3</td>\n",
              "      <td>2</td>\n",
              "      <td>1</td>\n",
              "      <td>3</td>\n",
              "      <td>2</td>\n",
              "      <td>0</td>\n",
              "      <td>3</td>\n",
              "      <td>2</td>\n",
              "      <td>3</td>\n",
              "      <td>0</td>\n",
              "      <td>1</td>\n",
              "      <td>4</td>\n",
              "    </tr>\n",
              "    <tr>\n",
              "      <th>3</th>\n",
              "      <td>2052</td>\n",
              "      <td>K</td>\n",
              "      <td>2</td>\n",
              "      <td>1</td>\n",
              "      <td>3</td>\n",
              "      <td>3</td>\n",
              "      <td>3</td>\n",
              "      <td>4</td>\n",
              "      <td>3</td>\n",
              "      <td>0</td>\n",
              "      <td>0</td>\n",
              "      <td>2</td>\n",
              "      <td>3</td>\n",
              "      <td>2</td>\n",
              "      <td>3</td>\n",
              "      <td>4</td>\n",
              "      <td>4</td>\n",
              "      <td>4</td>\n",
              "      <td>0</td>\n",
              "      <td>1</td>\n",
              "      <td>4</td>\n",
              "      <td>2</td>\n",
              "      <td>2</td>\n",
              "      <td>0</td>\n",
              "      <td>1</td>\n",
              "      <td>4</td>\n",
              "      <td>3</td>\n",
              "      <td>1</td>\n",
              "      <td>3</td>\n",
              "      <td>0</td>\n",
              "      <td>2</td>\n",
              "      <td>3</td>\n",
              "      <td>2</td>\n",
              "      <td>4</td>\n",
              "      <td>3</td>\n",
              "      <td>1</td>\n",
              "      <td>1</td>\n",
              "      <td>4</td>\n",
              "      <td>0</td>\n",
              "      <td>0</td>\n",
              "      <td>...</td>\n",
              "      <td>0</td>\n",
              "      <td>4</td>\n",
              "      <td>1</td>\n",
              "      <td>1</td>\n",
              "      <td>2</td>\n",
              "      <td>3</td>\n",
              "      <td>2</td>\n",
              "      <td>3</td>\n",
              "      <td>3</td>\n",
              "      <td>0</td>\n",
              "      <td>0</td>\n",
              "      <td>1</td>\n",
              "      <td>3</td>\n",
              "      <td>3</td>\n",
              "      <td>0</td>\n",
              "      <td>2</td>\n",
              "      <td>0</td>\n",
              "      <td>0</td>\n",
              "      <td>2</td>\n",
              "      <td>3</td>\n",
              "      <td>2</td>\n",
              "      <td>2</td>\n",
              "      <td>3</td>\n",
              "      <td>1</td>\n",
              "      <td>1</td>\n",
              "      <td>2</td>\n",
              "      <td>4</td>\n",
              "      <td>0</td>\n",
              "      <td>1</td>\n",
              "      <td>2</td>\n",
              "      <td>3</td>\n",
              "      <td>0</td>\n",
              "      <td>3</td>\n",
              "      <td>2</td>\n",
              "      <td>4</td>\n",
              "      <td>1</td>\n",
              "      <td>0</td>\n",
              "      <td>4</td>\n",
              "      <td>4</td>\n",
              "      <td>4</td>\n",
              "    </tr>\n",
              "    <tr>\n",
              "      <th>4</th>\n",
              "      <td>2053</td>\n",
              "      <td>W</td>\n",
              "      <td>1</td>\n",
              "      <td>0</td>\n",
              "      <td>1</td>\n",
              "      <td>1</td>\n",
              "      <td>2</td>\n",
              "      <td>2</td>\n",
              "      <td>1</td>\n",
              "      <td>4</td>\n",
              "      <td>1</td>\n",
              "      <td>1</td>\n",
              "      <td>4</td>\n",
              "      <td>3</td>\n",
              "      <td>4</td>\n",
              "      <td>1</td>\n",
              "      <td>2</td>\n",
              "      <td>1</td>\n",
              "      <td>4</td>\n",
              "      <td>3</td>\n",
              "      <td>3</td>\n",
              "      <td>4</td>\n",
              "      <td>0</td>\n",
              "      <td>4</td>\n",
              "      <td>4</td>\n",
              "      <td>2</td>\n",
              "      <td>0</td>\n",
              "      <td>0</td>\n",
              "      <td>0</td>\n",
              "      <td>0</td>\n",
              "      <td>3</td>\n",
              "      <td>4</td>\n",
              "      <td>0</td>\n",
              "      <td>1</td>\n",
              "      <td>4</td>\n",
              "      <td>2</td>\n",
              "      <td>2</td>\n",
              "      <td>2</td>\n",
              "      <td>1</td>\n",
              "      <td>4</td>\n",
              "      <td>...</td>\n",
              "      <td>4</td>\n",
              "      <td>1</td>\n",
              "      <td>3</td>\n",
              "      <td>2</td>\n",
              "      <td>1</td>\n",
              "      <td>2</td>\n",
              "      <td>1</td>\n",
              "      <td>4</td>\n",
              "      <td>4</td>\n",
              "      <td>1</td>\n",
              "      <td>2</td>\n",
              "      <td>3</td>\n",
              "      <td>2</td>\n",
              "      <td>4</td>\n",
              "      <td>2</td>\n",
              "      <td>1</td>\n",
              "      <td>4</td>\n",
              "      <td>3</td>\n",
              "      <td>4</td>\n",
              "      <td>3</td>\n",
              "      <td>0</td>\n",
              "      <td>1</td>\n",
              "      <td>0</td>\n",
              "      <td>1</td>\n",
              "      <td>1</td>\n",
              "      <td>2</td>\n",
              "      <td>1</td>\n",
              "      <td>1</td>\n",
              "      <td>0</td>\n",
              "      <td>2</td>\n",
              "      <td>4</td>\n",
              "      <td>3</td>\n",
              "      <td>1</td>\n",
              "      <td>4</td>\n",
              "      <td>0</td>\n",
              "      <td>2</td>\n",
              "      <td>1</td>\n",
              "      <td>2</td>\n",
              "      <td>3</td>\n",
              "      <td>4</td>\n",
              "    </tr>\n",
              "  </tbody>\n",
              "</table>\n",
              "<p>5 rows × 786 columns</p>\n",
              "</div>"
            ],
            "text/plain": [
              "     id letter  0  1  2  3  4  5  ...  776  777  778  779  780  781  782  783\n",
              "0  2049      L  0  4  0  2  4  2  ...    4    2    2    4    3    4    1    4\n",
              "1  2050      C  4  1  4  0  1  1  ...    2    4    2    4    2    2    1    2\n",
              "2  2051      S  0  4  0  1  3  2  ...    2    0    3    2    3    0    1    4\n",
              "3  2052      K  2  1  3  3  3  4  ...    3    2    4    1    0    4    4    4\n",
              "4  2053      W  1  0  1  1  2  2  ...    1    4    0    2    1    2    3    4\n",
              "\n",
              "[5 rows x 786 columns]"
            ]
          },
          "metadata": {
            "tags": []
          },
          "execution_count": 3
        }
      ]
    },
    {
      "cell_type": "code",
      "metadata": {
        "id": "bn0lPItNbYDR"
      },
      "source": [
        "\n",
        "y_train1 = to_categorical(train['digit'].values)"
      ],
      "execution_count": null,
      "outputs": []
    },
    {
      "cell_type": "code",
      "metadata": {
        "id": "u-JcdfbCbTTE"
      },
      "source": [
        "\n",
        "X_train, X_val, y_train, y_val = train_test_split(\n",
        "    train, y_train1, test_size = 0.1)\n"
      ],
      "execution_count": null,
      "outputs": []
    },
    {
      "cell_type": "code",
      "metadata": {
        "id": "ve46FoCVc3RB"
      },
      "source": [
        "def tmp_scaler(x):\n",
        "    return  (x.iloc[:,3:]/255.).values.reshape(-1, 28, 28,1)"
      ],
      "execution_count": null,
      "outputs": []
    },
    {
      "cell_type": "markdown",
      "metadata": {
        "id": "egx47OFlW4DK"
      },
      "source": []
    },
    {
      "cell_type": "code",
      "metadata": {
        "id": "X-lhUOYII6DL"
      },
      "source": [
        "X_train2 = tmp_scaler(X_train)\n",
        "X_val2 = tmp_scaler(X_val)\n",
        "X_train_letter = pd.get_dummies(X_train.letter)\n",
        "X_val_letter = pd.get_dummies(X_val.letter)\n"
      ],
      "execution_count": null,
      "outputs": []
    },
    {
      "cell_type": "code",
      "metadata": {
        "colab": {
          "base_uri": "https://localhost:8080/"
        },
        "id": "z-JjwbEuMLmX",
        "outputId": "0085cd58-f3f7-406e-97f8-965d8b7a48f9"
      },
      "source": [
        "X_val2.shape"
      ],
      "execution_count": null,
      "outputs": [
        {
          "output_type": "execute_result",
          "data": {
            "text/plain": [
              "(205, 28, 28, 1)"
            ]
          },
          "metadata": {
            "tags": []
          },
          "execution_count": 8
        }
      ]
    },
    {
      "cell_type": "code",
      "metadata": {
        "colab": {
          "base_uri": "https://localhost:8080/"
        },
        "id": "nXGMLjL1Ms06",
        "outputId": "a0173a4f-0c56-40fe-bdb2-cde5890b2568"
      },
      "source": [
        "np.argmax(y_train[2])"
      ],
      "execution_count": null,
      "outputs": [
        {
          "output_type": "execute_result",
          "data": {
            "text/plain": [
              "5"
            ]
          },
          "metadata": {
            "tags": []
          },
          "execution_count": 11
        }
      ]
    },
    {
      "cell_type": "code",
      "metadata": {
        "id": "cf6QqZRniuVx",
        "colab": {
          "base_uri": "https://localhost:8080/",
          "height": 283
        },
        "outputId": "c203e8fc-4b0b-4a37-9658-f0d4bd8d542a"
      },
      "source": [
        "plt.imshow(X_train2[2].reshape(28,28),cmap='gray') "
      ],
      "execution_count": null,
      "outputs": [
        {
          "output_type": "execute_result",
          "data": {
            "text/plain": [
              "<matplotlib.image.AxesImage at 0x7f3ce4fe6780>"
            ]
          },
          "metadata": {
            "tags": []
          },
          "execution_count": 12
        },
        {
          "output_type": "display_data",
          "data": {
            "image/png": "[encoded data removed]",
            "text/plain": [
              "<Figure size 432x288 with 1 Axes>"
            ]
          },
          "metadata": {
            "tags": [],
            "needs_background": "light"
          }
        }
      ]
    },
    {
      "cell_type": "code",
      "metadata": {
        "id": "YSKZSM4OCSMu"
      },
      "source": [
        "\n",
        "from google.colab.patches import cv2_imshow"
      ],
      "execution_count": null,
      "outputs": []
    },
    {
      "cell_type": "code",
      "metadata": {
        "colab": {
          "base_uri": "https://localhost:8080/",
          "height": 301
        },
        "id": "Crwut1m2CKq4",
        "outputId": "6b4e56f7-0f5b-49d6-c619-86969094158d"
      },
      "source": [
        "import random\n",
        "\n",
        "i = random.randint(0,100)\n",
        "print(i,np.argmax( y_train[i]))\n",
        "plt.imshow(X_train2[i].reshape(28,28),cmap='gray')"
      ],
      "execution_count": null,
      "outputs": [
        {
          "output_type": "stream",
          "text": [
            "69 4\n"
          ],
          "name": "stdout"
        },
        {
          "output_type": "execute_result",
          "data": {
            "text/plain": [
              "<matplotlib.image.AxesImage at 0x7f3cd2cabf60>"
            ]
          },
          "metadata": {
            "tags": []
          },
          "execution_count": 27
        },
        {
          "output_type": "display_data",
          "data": {
            "image/png": "[encoded data removed]",
            "text/plain": [
              "<Figure size 432x288 with 1 Axes>"
            ]
          },
          "metadata": {
            "tags": [],
            "needs_background": "light"
          }
        }
      ]
    },
    {
      "cell_type": "code",
      "metadata": {
        "id": "aMJwWY9Qck4R",
        "colab": {
          "base_uri": "https://localhost:8080/",
          "height": 510
        },
        "outputId": "7f74a5f4-9e6d-490c-eb96-b14d75070d96"
      },
      "source": [
        "X_train2[0][0]"
      ],
      "execution_count": null,
      "outputs": [
        {
          "output_type": "execute_result",
          "data": {
            "text/plain": [
              "array([[0.00392157],\n",
              "       [0.01568627],\n",
              "       [0.00392157],\n",
              "       [0.00392157],\n",
              "       [0.00392157],\n",
              "       [0.00392157],\n",
              "       [0.00392157],\n",
              "       [0.01568627],\n",
              "       [0.01176471],\n",
              "       [0.00392157],\n",
              "       [0.01176471],\n",
              "       [0.01568627],\n",
              "       [0.01176471],\n",
              "       [0.01176471],\n",
              "       [0.00392157],\n",
              "       [0.00392157],\n",
              "       [0.00392157],\n",
              "       [0.01568627],\n",
              "       [0.00784314],\n",
              "       [0.00784314],\n",
              "       [0.01568627],\n",
              "       [0.00392157],\n",
              "       [0.00392157],\n",
              "       [0.00784314],\n",
              "       [0.00392157],\n",
              "       [0.        ],\n",
              "       [0.00784314],\n",
              "       [0.00784314]])"
            ]
          },
          "metadata": {
            "tags": []
          },
          "execution_count": 22
        }
      ]
    },
    {
      "cell_type": "code",
      "metadata": {
        "id": "vGapQtqOW6NL",
        "colab": {
          "base_uri": "https://localhost:8080/",
          "height": 34
        },
        "outputId": "f0370a1c-028b-4992-d02e-75c413c23c94"
      },
      "source": [
        "X_train2.shape"
      ],
      "execution_count": null,
      "outputs": [
        {
          "output_type": "execute_result",
          "data": {
            "text/plain": [
              "(1843, 28, 28, 1)"
            ]
          },
          "metadata": {
            "tags": []
          },
          "execution_count": 7
        }
      ]
    },
    {
      "cell_type": "code",
      "metadata": {
        "id": "VeKzlpIsYMe9",
        "colab": {
          "base_uri": "https://localhost:8080/",
          "height": 35
        },
        "outputId": "c2a6e9f4-38b3-43fe-deb8-d03b5c616bbf"
      },
      "source": [
        "X_val2.shape"
      ],
      "execution_count": null,
      "outputs": [
        {
          "output_type": "execute_result",
          "data": {
            "text/plain": [
              "(205, 28, 28, 1)"
            ]
          },
          "metadata": {
            "tags": []
          },
          "execution_count": 8
        }
      ]
    },
    {
      "cell_type": "code",
      "metadata": {
        "id": "VtEVDnU5W83f",
        "colab": {
          "base_uri": "https://localhost:8080/",
          "height": 204
        },
        "outputId": "e4b30aae-98d2-4958-d4df-8220fcbef4c1"
      },
      "source": [
        "X_train_letter.head()"
      ],
      "execution_count": null,
      "outputs": [
        {
          "output_type": "execute_result",
          "data": {
            "text/html": [
              "<div>\n",
              "<style scoped>\n",
              "    .dataframe tbody tr th:only-of-type {\n",
              "        vertical-align: middle;\n",
              "    }\n",
              "\n",
              "    .dataframe tbody tr th {\n",
              "        vertical-align: top;\n",
              "    }\n",
              "\n",
              "    .dataframe thead th {\n",
              "        text-align: right;\n",
              "    }\n",
              "</style>\n",
              "<table border=\"1\" class=\"dataframe\">\n",
              "  <thead>\n",
              "    <tr style=\"text-align: right;\">\n",
              "      <th></th>\n",
              "      <th>A</th>\n",
              "      <th>B</th>\n",
              "      <th>C</th>\n",
              "      <th>D</th>\n",
              "      <th>E</th>\n",
              "      <th>F</th>\n",
              "      <th>G</th>\n",
              "      <th>H</th>\n",
              "      <th>I</th>\n",
              "      <th>J</th>\n",
              "      <th>K</th>\n",
              "      <th>L</th>\n",
              "      <th>M</th>\n",
              "      <th>N</th>\n",
              "      <th>O</th>\n",
              "      <th>P</th>\n",
              "      <th>Q</th>\n",
              "      <th>R</th>\n",
              "      <th>S</th>\n",
              "      <th>T</th>\n",
              "      <th>U</th>\n",
              "      <th>V</th>\n",
              "      <th>W</th>\n",
              "      <th>X</th>\n",
              "      <th>Y</th>\n",
              "      <th>Z</th>\n",
              "    </tr>\n",
              "  </thead>\n",
              "  <tbody>\n",
              "    <tr>\n",
              "      <th>1667</th>\n",
              "      <td>0</td>\n",
              "      <td>0</td>\n",
              "      <td>0</td>\n",
              "      <td>0</td>\n",
              "      <td>0</td>\n",
              "      <td>0</td>\n",
              "      <td>0</td>\n",
              "      <td>0</td>\n",
              "      <td>0</td>\n",
              "      <td>0</td>\n",
              "      <td>0</td>\n",
              "      <td>0</td>\n",
              "      <td>0</td>\n",
              "      <td>0</td>\n",
              "      <td>0</td>\n",
              "      <td>0</td>\n",
              "      <td>0</td>\n",
              "      <td>0</td>\n",
              "      <td>0</td>\n",
              "      <td>1</td>\n",
              "      <td>0</td>\n",
              "      <td>0</td>\n",
              "      <td>0</td>\n",
              "      <td>0</td>\n",
              "      <td>0</td>\n",
              "      <td>0</td>\n",
              "    </tr>\n",
              "    <tr>\n",
              "      <th>1155</th>\n",
              "      <td>0</td>\n",
              "      <td>0</td>\n",
              "      <td>0</td>\n",
              "      <td>0</td>\n",
              "      <td>0</td>\n",
              "      <td>0</td>\n",
              "      <td>0</td>\n",
              "      <td>1</td>\n",
              "      <td>0</td>\n",
              "      <td>0</td>\n",
              "      <td>0</td>\n",
              "      <td>0</td>\n",
              "      <td>0</td>\n",
              "      <td>0</td>\n",
              "      <td>0</td>\n",
              "      <td>0</td>\n",
              "      <td>0</td>\n",
              "      <td>0</td>\n",
              "      <td>0</td>\n",
              "      <td>0</td>\n",
              "      <td>0</td>\n",
              "      <td>0</td>\n",
              "      <td>0</td>\n",
              "      <td>0</td>\n",
              "      <td>0</td>\n",
              "      <td>0</td>\n",
              "    </tr>\n",
              "    <tr>\n",
              "      <th>390</th>\n",
              "      <td>0</td>\n",
              "      <td>0</td>\n",
              "      <td>0</td>\n",
              "      <td>0</td>\n",
              "      <td>0</td>\n",
              "      <td>0</td>\n",
              "      <td>0</td>\n",
              "      <td>0</td>\n",
              "      <td>0</td>\n",
              "      <td>0</td>\n",
              "      <td>0</td>\n",
              "      <td>0</td>\n",
              "      <td>0</td>\n",
              "      <td>0</td>\n",
              "      <td>0</td>\n",
              "      <td>0</td>\n",
              "      <td>0</td>\n",
              "      <td>1</td>\n",
              "      <td>0</td>\n",
              "      <td>0</td>\n",
              "      <td>0</td>\n",
              "      <td>0</td>\n",
              "      <td>0</td>\n",
              "      <td>0</td>\n",
              "      <td>0</td>\n",
              "      <td>0</td>\n",
              "    </tr>\n",
              "    <tr>\n",
              "      <th>1438</th>\n",
              "      <td>0</td>\n",
              "      <td>0</td>\n",
              "      <td>0</td>\n",
              "      <td>0</td>\n",
              "      <td>0</td>\n",
              "      <td>0</td>\n",
              "      <td>0</td>\n",
              "      <td>0</td>\n",
              "      <td>0</td>\n",
              "      <td>0</td>\n",
              "      <td>0</td>\n",
              "      <td>0</td>\n",
              "      <td>0</td>\n",
              "      <td>0</td>\n",
              "      <td>0</td>\n",
              "      <td>0</td>\n",
              "      <td>0</td>\n",
              "      <td>0</td>\n",
              "      <td>0</td>\n",
              "      <td>0</td>\n",
              "      <td>1</td>\n",
              "      <td>0</td>\n",
              "      <td>0</td>\n",
              "      <td>0</td>\n",
              "      <td>0</td>\n",
              "      <td>0</td>\n",
              "    </tr>\n",
              "    <tr>\n",
              "      <th>1646</th>\n",
              "      <td>0</td>\n",
              "      <td>0</td>\n",
              "      <td>0</td>\n",
              "      <td>1</td>\n",
              "      <td>0</td>\n",
              "      <td>0</td>\n",
              "      <td>0</td>\n",
              "      <td>0</td>\n",
              "      <td>0</td>\n",
              "      <td>0</td>\n",
              "      <td>0</td>\n",
              "      <td>0</td>\n",
              "      <td>0</td>\n",
              "      <td>0</td>\n",
              "      <td>0</td>\n",
              "      <td>0</td>\n",
              "      <td>0</td>\n",
              "      <td>0</td>\n",
              "      <td>0</td>\n",
              "      <td>0</td>\n",
              "      <td>0</td>\n",
              "      <td>0</td>\n",
              "      <td>0</td>\n",
              "      <td>0</td>\n",
              "      <td>0</td>\n",
              "      <td>0</td>\n",
              "    </tr>\n",
              "  </tbody>\n",
              "</table>\n",
              "</div>"
            ],
            "text/plain": [
              "      A  B  C  D  E  F  G  H  I  J  K  L  ...  O  P  Q  R  S  T  U  V  W  X  Y  Z\n",
              "1667  0  0  0  0  0  0  0  0  0  0  0  0  ...  0  0  0  0  0  1  0  0  0  0  0  0\n",
              "1155  0  0  0  0  0  0  0  1  0  0  0  0  ...  0  0  0  0  0  0  0  0  0  0  0  0\n",
              "390   0  0  0  0  0  0  0  0  0  0  0  0  ...  0  0  0  1  0  0  0  0  0  0  0  0\n",
              "1438  0  0  0  0  0  0  0  0  0  0  0  0  ...  0  0  0  0  0  0  1  0  0  0  0  0\n",
              "1646  0  0  0  1  0  0  0  0  0  0  0  0  ...  0  0  0  0  0  0  0  0  0  0  0  0\n",
              "\n",
              "[5 rows x 26 columns]"
            ]
          },
          "metadata": {
            "tags": []
          },
          "execution_count": 6
        }
      ]
    },
    {
      "cell_type": "code",
      "metadata": {
        "id": "hWtfQAdHc9b0",
        "colab": {
          "base_uri": "https://localhost:8080/",
          "height": 35
        },
        "outputId": "3fd570fe-8a9c-474a-f19f-ffe0c8264711"
      },
      "source": [
        "X_train_letter.shape"
      ],
      "execution_count": null,
      "outputs": [
        {
          "output_type": "execute_result",
          "data": {
            "text/plain": [
              "(1843, 26)"
            ]
          },
          "metadata": {
            "tags": []
          },
          "execution_count": 23
        }
      ]
    },
    {
      "cell_type": "code",
      "metadata": {
        "id": "X93sacl2O9l6"
      },
      "source": [
        "def create_tmp_model():\n",
        "\n",
        "    input_digits = keras.layers.Input(shape=(28,28,1))\n",
        "    conv1 = keras.layers.Conv2D(32, kernel_size = 3, padding=\"same\",activation='relu',name=\"conv1\")(input_digits)\n",
        "    conv1_1 = keras.layers.Conv2D(32, kernel_size = 3, padding=\"same\", activation='relu',name=\"conv1_1\")(conv1)\n",
        "    conv2 = keras.layers.Conv2D(32, kernel_size = 3, padding=\"same\", activation='relu',name=\"conv2\")(conv1_1)\n",
        "\n",
        "    batchnorm1 = keras.layers.BatchNormalization()(conv2)\n",
        "    concat1 = keras.layers.Concatenate()([conv1,batchnorm1])\n",
        "\n",
        "    conv3 = keras.layers.Conv2D(32, kernel_size = 5, strides=2, padding='same', activation='relu',name=\"conv3\")(concat1)\n",
        "    drop1 = keras.layers.Dropout(0.4)(conv3)\n",
        "\n",
        "    conv4 = keras.layers.Conv2D(64, kernel_size = 3, padding=\"same\",activation='relu',name=\"conv4\")(drop1)\n",
        "    conv4_1 = keras.layers.Conv2D(64, kernel_size = 3, padding=\"same\", activation='relu',name=\"conv4_1\")(conv4)    \n",
        "    conv5 = keras.layers.Conv2D(64, kernel_size = 3, padding=\"same\",activation='relu',name=\"conv5\")(conv4_1)\n",
        "\n",
        "    batchnorm2 = keras.layers.BatchNormalization()(conv5)\n",
        "    concat2 = keras.layers.Concatenate()([conv4,batchnorm2])\n",
        "\n",
        "    conv5_1 = keras.layers.Conv2D(64, kernel_size = 3, padding=\"same\",activation='relu',name=\"conv5_1\")(concat2)\n",
        "    conv5_2 = keras.layers.Conv2D(64, kernel_size = 3, padding=\"same\",activation='relu',name=\"conv5_2\")(conv5_1)\n",
        "    conv5_3 = keras.layers.Conv2D(64, kernel_size = 3, padding=\"same\",activation='relu',name=\"conv5_3\")(conv5_2)\n",
        "\n",
        "    concat2_1 = keras.layers.Concatenate()([conv5_1,conv5_3])\n",
        "    batchnorm4 = keras.layers.BatchNormalization()(concat2_1)\n",
        "\n",
        "    conv6 = keras.layers.Conv2D(64, kernel_size = 5, strides=2, padding='same', activation='relu',name=\"conv6\")(batchnorm4)\n",
        "    drop2 = keras.layers.Dropout(0.4)(conv6)\n",
        "\n",
        "    conv7 = keras.layers.Conv2D(256, kernel_size = 4, activation='relu',name=\"conv7\")(drop2)\n",
        "    conv7_1 = keras.layers.Conv2D(256, kernel_size = 4,padding='same', activation='relu',name=\"conv7_1\")(conv7)\n",
        "    conv8 = keras.layers.Conv2D(512, kernel_size = 4, activation='relu',name=\"conv8\")(conv7_1)\n",
        "\n",
        "    batchnorm3 = keras.layers.BatchNormalization()(conv8)\n",
        "    flatten = keras.layers.Flatten()(batchnorm3)\n",
        "\n",
        "    ''' **********************************************************************************************************'''\n",
        "    \n",
        "    input_letter =keras.layers.Input(shape=[26])    \n",
        "\n",
        "    concat = keras.layers.concatenate([input_letter,flatten])\n",
        "\n",
        "    dense1 = keras.layers.Dense(400,activation='relu')(concat)\n",
        "    dense2 = keras.layers.Dense(400,activation='relu')(dense1)\n",
        "    output = keras.layers.Dense(10,activation='softmax',name=\"output\")(dense2)\n",
        "\n",
        "    model = keras.Model(inputs=[input_digits,input_letter],outputs=[output])\n",
        "\n",
        "\n",
        "    model.compile(optimizer=\"adam\", loss=\"categorical_crossentropy\", metrics=[\"accuracy\"])\n",
        "\n",
        "\n",
        "    return model"
      ],
      "execution_count": null,
      "outputs": []
    },
    {
      "cell_type": "code",
      "metadata": {
        "id": "tRGjfAvtnaw2"
      },
      "source": [
        "def create_901_model():\n",
        "\n",
        "    input_digits = keras.layers.Input(shape=(28,28,1))\n",
        "    conv1 = keras.layers.Conv2D(32, kernel_size = 3, padding=\"same\",activation='relu',name=\"conv1\")(input_digits)\n",
        "    conv1_1 = keras.layers.Conv2D(32, kernel_size = 3, padding=\"same\", activation='relu',name=\"conv1_1\")(conv1)\n",
        "    conv2 = keras.layers.Conv2D(32, kernel_size = 3, padding=\"same\", activation='relu',name=\"conv2\")(conv1_1)\n",
        "\n",
        "    concat1 = keras.layers.Concatenate()([conv1,conv2])\n",
        "\n",
        "    conv3 = keras.layers.Conv2D(32, kernel_size = 5, strides=2, padding='same', activation='relu',name=\"conv3\")(concat1)\n",
        "    drop1 = keras.layers.Dropout(0.4)(conv3)\n",
        "\n",
        "    conv4 = keras.layers.Conv2D(64, kernel_size = 3, padding=\"same\",activation='relu',name=\"conv4\")(drop1)\n",
        "    conv4_1 = keras.layers.Conv2D(32, kernel_size = 3, padding=\"same\", activation='relu',name=\"conv4_1\")(conv4)    \n",
        "    conv5 = keras.layers.Conv2D(64, kernel_size = 3, padding=\"same\",activation='relu',name=\"conv5\")(conv4_1)\n",
        "\n",
        "    concat2 = keras.layers.Concatenate()([conv4,conv5])\n",
        "\n",
        "\n",
        "    conv6 = keras.layers.Conv2D(64, kernel_size = 5, strides=2, padding='same', \n",
        "                                activation='relu',name=\"conv6\")(concat2)\n",
        "    drop2 = keras.layers.Dropout(0.4)(conv6)\n",
        "\n",
        "    conv7 = keras.layers.Conv2D(256, kernel_size = 4, activation='relu',name=\"conv7\")(drop2)\n",
        "    conv8 = keras.layers.Conv2D(256, kernel_size = 4, activation='relu',name=\"conv8\")(conv7)\n",
        "\n",
        "    flatten = keras.layers.Flatten()(conv8)\n",
        "\n",
        "    ''' **********************************************************************************************************'''\n",
        "    \n",
        "    input_letter =keras.layers.Input(shape=[26])    \n",
        "\n",
        "    concat = keras.layers.concatenate([input_letter,flatten])\n",
        "\n",
        "    dense1 = keras.layers.Dense(200,activation='relu')(concat)\n",
        "    # dense1 = keras.layers.Dense(200,activation='relu')(flatten)    dense2 = keras.layers.Dense(200,activation='relu')(dense1)\n",
        "    output = keras.layers.Dense(10,activation='softmax',name=\"output\")(dense2)\n",
        "\n",
        "    model = keras.Model(inputs=[input_digits,input_letter],outputs=[output])\n",
        "\n",
        "\n",
        "    model.compile(optimizer=\"adam\", loss=\"categorical_crossentropy\", metrics=[\"accuracy\"])\n",
        "\n",
        "\n",
        "    return model"
      ],
      "execution_count": null,
      "outputs": []
    },
    {
      "cell_type": "code",
      "metadata": {
        "id": "MmhDKzcrprjM"
      },
      "source": [
        "modeljson= '''\n",
        "{\"class_name\": \"Functional\", \"config\": {\"name\": \"functional_34\", \"layers\": [{\"class_name\": \"InputLayer\", \"config\": {\"batch_input_shape\": [null, 28, 28, 1], \"dtype\": \"float32\", \"sparse\": false, \"ragged\": false, \"name\": \"input_35\"}, \"name\": \"input_35\", \"inbound_nodes\": []}, {\"class_name\": \"Conv2D\", \"config\": {\"name\": \"conv1\", \"trainable\": true, \"dtype\": \"float32\", \"filters\": 32, \"kernel_size\": [3, 3], \"strides\": [1, 1], \"padding\": \"same\", \"data_format\": \"channels_last\", \"dilation_rate\": [1, 1], \"groups\": 1, \"activation\": \"relu\", \"use_bias\": true, \"kernel_initializer\": {\"class_name\": \"GlorotUniform\", \"config\": {\"seed\": null}}, \"bias_initializer\": {\"class_name\": \"Zeros\", \"config\": {}}, \"kernel_regularizer\": null, \"bias_regularizer\": null, \"activity_regularizer\": null, \"kernel_constraint\": null, \"bias_constraint\": null}, \"name\": \"conv1\", \"inbound_nodes\": [[[\"input_35\", 0, 0, {}]]]}, {\"class_name\": \"Conv2D\", \"config\": {\"name\": \"conv1_1\", \"trainable\": true, \"dtype\": \"float32\", \"filters\": 32, \"kernel_size\": [3, 3], \"strides\": [1, 1], \"padding\": \"same\", \"data_format\": \"channels_last\", \"dilation_rate\": [1, 1], \"groups\": 1, \"activation\": \"relu\", \"use_bias\": true, \"kernel_initializer\": {\"class_name\": \"GlorotUniform\", \"config\": {\"seed\": null}}, \"bias_initializer\": {\"class_name\": \"Zeros\", \"config\": {}}, \"kernel_regularizer\": null, \"bias_regularizer\": null, \"activity_regularizer\": null, \"kernel_constraint\": null, \"bias_constraint\": null}, \"name\": \"conv1_1\", \"inbound_nodes\": [[[\"conv1\", 0, 0, {}]]]}, {\"class_name\": \"Conv2D\", \"config\": {\"name\": \"conv2\", \"trainable\": true, \"dtype\": \"float32\", \"filters\": 32, \"kernel_size\": [3, 3], \"strides\": [1, 1], \"padding\": \"same\", \"data_format\": \"channels_last\", \"dilation_rate\": [1, 1], \"groups\": 1, \"activation\": \"relu\", \"use_bias\": true, \"kernel_initializer\": {\"class_name\": \"GlorotUniform\", \"config\": {\"seed\": null}}, \"bias_initializer\": {\"class_name\": \"Zeros\", \"config\": {}}, \"kernel_regularizer\": null, \"bias_regularizer\": null, \"activity_regularizer\": null, \"kernel_constraint\": null, \"bias_constraint\": null}, \"name\": \"conv2\", \"inbound_nodes\": [[[\"conv1_1\", 0, 0, {}]]]}, {\"class_name\": \"Concatenate\", \"config\": {\"name\": \"concatenate_27\", \"trainable\": true, \"dtype\": \"float32\", \"axis\": -1}, \"name\": \"concatenate_27\", \"inbound_nodes\": [[[\"conv1\", 0, 0, {}], [\"conv2\", 0, 0, {}]]]}, {\"class_name\": \"Conv2D\", \"config\": {\"name\": \"conv3\", \"trainable\": true, \"dtype\": \"float32\", \"filters\": 32, \"kernel_size\": [5, 5], \"strides\": [2, 2], \"padding\": \"same\", \"data_format\": \"channels_last\", \"dilation_rate\": [1, 1], \"groups\": 1, \"activation\": \"relu\", \"use_bias\": true, \"kernel_initializer\": {\"class_name\": \"GlorotUniform\", \"config\": {\"seed\": null}}, \"bias_initializer\": {\"class_name\": \"Zeros\", \"config\": {}}, \"kernel_regularizer\": null, \"bias_regularizer\": null, \"activity_regularizer\": null, \"kernel_constraint\": null, \"bias_constraint\": null}, \"name\": \"conv3\", \"inbound_nodes\": [[[\"concatenate_27\", 0, 0, {}]]]}, {\"class_name\": \"Dropout\", \"config\": {\"name\": \"dropout_34\", \"trainable\": true, \"dtype\": \"float32\", \"rate\": 0.4, \"noise_shape\": null, \"seed\": null}, \"name\": \"dropout_34\", \"inbound_nodes\": [[[\"conv3\", 0, 0, {}]]]}, {\"class_name\": \"Conv2D\", \"config\": {\"name\": \"conv4\", \"trainable\": true, \"dtype\": \"float32\", \"filters\": 64, \"kernel_size\": [3, 3], \"strides\": [1, 1], \"padding\": \"same\", \"data_format\": \"channels_last\", \"dilation_rate\": [1, 1], \"groups\": 1, \"activation\": \"relu\", \"use_bias\": true, \"kernel_initializer\": {\"class_name\": \"GlorotUniform\", \"config\": {\"seed\": null}}, \"bias_initializer\": {\"class_name\": \"Zeros\", \"config\": {}}, \"kernel_regularizer\": null, \"bias_regularizer\": null, \"activity_regularizer\": null, \"kernel_constraint\": null, \"bias_constraint\": null}, \"name\": \"conv4\", \"inbound_nodes\": [[[\"dropout_34\", 0, 0, {}]]]}, {\"class_name\": \"Conv2D\", \"config\": {\"name\": \"conv4_1\", \"trainable\": true, \"dtype\": \"float32\", \"filters\": 32, \"kernel_size\": [3, 3], \"strides\": [1, 1], \"padding\": \"same\", \"data_format\": \"channels_last\", \"dilation_rate\": [1, 1], \"groups\": 1, \"activation\": \"relu\", \"use_bias\": true, \"kernel_initializer\": {\"class_name\": \"GlorotUniform\", \"config\": {\"seed\": null}}, \"bias_initializer\": {\"class_name\": \"Zeros\", \"config\": {}}, \"kernel_regularizer\": null, \"bias_regularizer\": null, \"activity_regularizer\": null, \"kernel_constraint\": null, \"bias_constraint\": null}, \"name\": \"conv4_1\", \"inbound_nodes\": [[[\"conv4\", 0, 0, {}]]]}, {\"class_name\": \"Conv2D\", \"config\": {\"name\": \"conv5\", \"trainable\": true, \"dtype\": \"float32\", \"filters\": 64, \"kernel_size\": [3, 3], \"strides\": [1, 1], \"padding\": \"same\", \"data_format\": \"channels_last\", \"dilation_rate\": [1, 1], \"groups\": 1, \"activation\": \"relu\", \"use_bias\": true, \"kernel_initializer\": {\"class_name\": \"GlorotUniform\", \"config\": {\"seed\": null}}, \"bias_initializer\": {\"class_name\": \"Zeros\", \"config\": {}}, \"kernel_regularizer\": null, \"bias_regularizer\": null, \"activity_regularizer\": null, \"kernel_constraint\": null, \"bias_constraint\": null}, \"name\": \"conv5\", \"inbound_nodes\": [[[\"conv4_1\", 0, 0, {}]]]}, {\"class_name\": \"Concatenate\", \"config\": {\"name\": \"concatenate_28\", \"trainable\": true, \"dtype\": \"float32\", \"axis\": -1}, \"name\": \"concatenate_28\", \"inbound_nodes\": [[[\"conv4\", 0, 0, {}], [\"conv5\", 0, 0, {}]]]}, {\"class_name\": \"Conv2D\", \"config\": {\"name\": \"conv6\", \"trainable\": true, \"dtype\": \"float32\", \"filters\": 64, \"kernel_size\": [5, 5], \"strides\": [2, 2], \"padding\": \"same\", \"data_format\": \"channels_last\", \"dilation_rate\": [1, 1], \"groups\": 1, \"activation\": \"relu\", \"use_bias\": true, \"kernel_initializer\": {\"class_name\": \"GlorotUniform\", \"config\": {\"seed\": null}}, \"bias_initializer\": {\"class_name\": \"Zeros\", \"config\": {}}, \"kernel_regularizer\": null, \"bias_regularizer\": null, \"activity_regularizer\": null, \"kernel_constraint\": null, \"bias_constraint\": null}, \"name\": \"conv6\", \"inbound_nodes\": [[[\"concatenate_28\", 0, 0, {}]]]}, {\"class_name\": \"Dropout\", \"config\": {\"name\": \"dropout_35\", \"trainable\": true, \"dtype\": \"float32\", \"rate\": 0.4, \"noise_shape\": null, \"seed\": null}, \"name\": \"dropout_35\", \"inbound_nodes\": [[[\"conv6\", 0, 0, {}]]]}, {\"class_name\": \"Conv2D\", \"config\": {\"name\": \"conv7\", \"trainable\": true, \"dtype\": \"float32\", \"filters\": 256, \"kernel_size\": [4, 4], \"strides\": [1, 1], \"padding\": \"valid\", \"data_format\": \"channels_last\", \"dilation_rate\": [1, 1], \"groups\": 1, \"activation\": \"relu\", \"use_bias\": true, \"kernel_initializer\": {\"class_name\": \"GlorotUniform\", \"config\": {\"seed\": null}}, \"bias_initializer\": {\"class_name\": \"Zeros\", \"config\": {}}, \"kernel_regularizer\": null, \"bias_regularizer\": null, \"activity_regularizer\": null, \"kernel_constraint\": null, \"bias_constraint\": null}, \"name\": \"conv7\", \"inbound_nodes\": [[[\"dropout_35\", 0, 0, {}]]]}, {\"class_name\": \"Conv2D\", \"config\": {\"name\": \"conv8\", \"trainable\": true, \"dtype\": \"float32\", \"filters\": 256, \"kernel_size\": [4, 4], \"strides\": [1, 1], \"padding\": \"valid\", \"data_format\": \"channels_last\", \"dilation_rate\": [1, 1], \"groups\": 1, \"activation\": \"relu\", \"use_bias\": true, \"kernel_initializer\": {\"class_name\": \"GlorotUniform\", \"config\": {\"seed\": null}}, \"bias_initializer\": {\"class_name\": \"Zeros\", \"config\": {}}, \"kernel_regularizer\": null, \"bias_regularizer\": null, \"activity_regularizer\": null, \"kernel_constraint\": null, \"bias_constraint\": null}, \"name\": \"conv8\", \"inbound_nodes\": [[[\"conv7\", 0, 0, {}]]]}, {\"class_name\": \"InputLayer\", \"config\": {\"batch_input_shape\": [null, 26], \"dtype\": \"float32\", \"sparse\": false, \"ragged\": false, \"name\": \"input_36\"}, \"name\": \"input_36\", \"inbound_nodes\": []}, {\"class_name\": \"Flatten\", \"config\": {\"name\": \"flatten_17\", \"trainable\": true, \"dtype\": \"float32\", \"data_format\": \"channels_last\"}, \"name\": \"flatten_17\", \"inbound_nodes\": [[[\"conv8\", 0, 0, {}]]]}, {\"class_name\": \"Concatenate\", \"config\": {\"name\": \"concatenate_29\", \"trainable\": true, \"dtype\": \"float32\", \"axis\": -1}, \"name\": \"concatenate_29\", \"inbound_nodes\": [[[\"input_36\", 0, 0, {}], [\"flatten_17\", 0, 0, {}]]]}, {\"class_name\": \"Dense\", \"config\": {\"name\": \"dense_34\", \"trainable\": true, \"dtype\": \"float32\", \"units\": 200, \"activation\": \"relu\", \"use_bias\": true, \"kernel_initializer\": {\"class_name\": \"GlorotUniform\", \"config\": {\"seed\": null}}, \"bias_initializer\": {\"class_name\": \"Zeros\", \"config\": {}}, \"kernel_regularizer\": null, \"bias_regularizer\": null, \"activity_regularizer\": null, \"kernel_constraint\": null, \"bias_constraint\": null}, \"name\": \"dense_34\", \"inbound_nodes\": [[[\"concatenate_29\", 0, 0, {}]]]}, {\"class_name\": \"Dense\", \"config\": {\"name\": \"dense_35\", \"trainable\": true, \"dtype\": \"float32\", \"units\": 200, \"activation\": \"relu\", \"use_bias\": true, \"kernel_initializer\": {\"class_name\": \"GlorotUniform\", \"config\": {\"seed\": null}}, \"bias_initializer\": {\"class_name\": \"Zeros\", \"config\": {}}, \"kernel_regularizer\": null, \"bias_regularizer\": null, \"activity_regularizer\": null, \"kernel_constraint\": null, \"bias_constraint\": null}, \"name\": \"dense_35\", \"inbound_nodes\": [[[\"dense_34\", 0, 0, {}]]]}, {\"class_name\": \"Dense\", \"config\": {\"name\": \"output\", \"trainable\": true, \"dtype\": \"float32\", \"units\": 10, \"activation\": \"softmax\", \"use_bias\": true, \"kernel_initializer\": {\"class_name\": \"GlorotUniform\", \"config\": {\"seed\": null}}, \"bias_initializer\": {\"class_name\": \"Zeros\", \"config\": {}}, \"kernel_regularizer\": null, \"bias_regularizer\": null, \"activity_regularizer\": null, \"kernel_constraint\": null, \"bias_constraint\": null}, \"name\": \"output\", \"inbound_nodes\": [[[\"dense_35\", 0, 0, {}]]]}], \"input_layers\": [[\"input_35\", 0, 0], [\"input_36\", 0, 0]], \"output_layers\": [[\"output\", 0, 0]]}, \"keras_version\": \"2.4.0\", \"backend\": \"tensorflow\"}\n",
        "'''"
      ],
      "execution_count": null,
      "outputs": []
    },
    {
      "cell_type": "code",
      "metadata": {
        "id": "xdmGsY5LqDdE"
      },
      "source": [
        "model = keras.models.model_from_json(modeljson)"
      ],
      "execution_count": null,
      "outputs": []
    },
    {
      "cell_type": "code",
      "metadata": {
        "id": "dgUFTgaLtheP",
        "colab": {
          "base_uri": "https://localhost:8080/",
          "height": 971
        },
        "outputId": "de72714f-0e28-4db1-cfb8-7082c5f66b67"
      },
      "source": [
        "# model = create_901_model()\n",
        "model.summary()"
      ],
      "execution_count": null,
      "outputs": [
        {
          "output_type": "stream",
          "text": [
            "Model: \"functional_34\"\n",
            "__________________________________________________________________________________________________\n",
            "Layer (type)                    Output Shape         Param #     Connected to                     \n",
            "==================================================================================================\n",
            "input_35 (InputLayer)           [(None, 28, 28, 1)]  0                                            \n",
            "__________________________________________________________________________________________________\n",
            "conv1 (Conv2D)                  (None, 28, 28, 32)   320         input_35[0][0]                   \n",
            "__________________________________________________________________________________________________\n",
            "conv1_1 (Conv2D)                (None, 28, 28, 32)   9248        conv1[0][0]                      \n",
            "__________________________________________________________________________________________________\n",
            "conv2 (Conv2D)                  (None, 28, 28, 32)   9248        conv1_1[0][0]                    \n",
            "__________________________________________________________________________________________________\n",
            "concatenate_27 (Concatenate)    (None, 28, 28, 64)   0           conv1[0][0]                      \n",
            "                                                                 conv2[0][0]                      \n",
            "__________________________________________________________________________________________________\n",
            "conv3 (Conv2D)                  (None, 14, 14, 32)   51232       concatenate_27[0][0]             \n",
            "__________________________________________________________________________________________________\n",
            "dropout_34 (Dropout)            (None, 14, 14, 32)   0           conv3[0][0]                      \n",
            "__________________________________________________________________________________________________\n",
            "conv4 (Conv2D)                  (None, 14, 14, 64)   18496       dropout_34[0][0]                 \n",
            "__________________________________________________________________________________________________\n",
            "conv4_1 (Conv2D)                (None, 14, 14, 32)   18464       conv4[0][0]                      \n",
            "__________________________________________________________________________________________________\n",
            "conv5 (Conv2D)                  (None, 14, 14, 64)   18496       conv4_1[0][0]                    \n",
            "__________________________________________________________________________________________________\n",
            "concatenate_28 (Concatenate)    (None, 14, 14, 128)  0           conv4[0][0]                      \n",
            "                                                                 conv5[0][0]                      \n",
            "__________________________________________________________________________________________________\n",
            "conv6 (Conv2D)                  (None, 7, 7, 64)     204864      concatenate_28[0][0]             \n",
            "__________________________________________________________________________________________________\n",
            "dropout_35 (Dropout)            (None, 7, 7, 64)     0           conv6[0][0]                      \n",
            "__________________________________________________________________________________________________\n",
            "conv7 (Conv2D)                  (None, 4, 4, 256)    262400      dropout_35[0][0]                 \n",
            "__________________________________________________________________________________________________\n",
            "conv8 (Conv2D)                  (None, 1, 1, 256)    1048832     conv7[0][0]                      \n",
            "__________________________________________________________________________________________________\n",
            "input_36 (InputLayer)           [(None, 26)]         0                                            \n",
            "__________________________________________________________________________________________________\n",
            "flatten_17 (Flatten)            (None, 256)          0           conv8[0][0]                      \n",
            "__________________________________________________________________________________________________\n",
            "concatenate_29 (Concatenate)    (None, 282)          0           input_36[0][0]                   \n",
            "                                                                 flatten_17[0][0]                 \n",
            "__________________________________________________________________________________________________\n",
            "dense_34 (Dense)                (None, 200)          56600       concatenate_29[0][0]             \n",
            "__________________________________________________________________________________________________\n",
            "dense_35 (Dense)                (None, 200)          40200       dense_34[0][0]                   \n",
            "__________________________________________________________________________________________________\n",
            "output (Dense)                  (None, 10)           2010        dense_35[0][0]                   \n",
            "==================================================================================================\n",
            "Total params: 1,740,410\n",
            "Trainable params: 1,740,410\n",
            "Non-trainable params: 0\n",
            "__________________________________________________________________________________________________\n"
          ],
          "name": "stdout"
        }
      ]
    },
    {
      "cell_type": "code",
      "metadata": {
        "id": "R98WYPOxpz0g"
      },
      "source": [
        "model.load_weights('/content/params_829_901.h5')"
      ],
      "execution_count": null,
      "outputs": []
    },
    {
      "cell_type": "code",
      "metadata": {
        "id": "Hc5Lw4Bgqa3V"
      },
      "source": [
        "\n",
        "model.compile(optimizer=\"adam\", loss=\"categorical_crossentropy\", metrics=[\"accuracy\"])\n"
      ],
      "execution_count": null,
      "outputs": []
    },
    {
      "cell_type": "code",
      "metadata": {
        "id": "7T5sk6V5gkMV"
      },
      "source": [
        "# DECREASE LEARNING RATE EACH EPOCH\n",
        "annealer = LearningRateScheduler(lambda x: 1e-3 * 0.98 ** x)\n"
      ],
      "execution_count": null,
      "outputs": []
    },
    {
      "cell_type": "code",
      "metadata": {
        "id": "SLDm3lIrgvDS"
      },
      "source": [
        "epochs = 200\n",
        "patience = 100"
      ],
      "execution_count": null,
      "outputs": []
    },
    {
      "cell_type": "code",
      "metadata": {
        "id": "C0ctZsNYav_D",
        "colab": {
          "base_uri": "https://localhost:8080/",
          "height": 1000
        },
        "outputId": "101f2301-b64d-40c0-c09c-8b043280d22e"
      },
      "source": [
        "\n",
        "history = model.fit(\n",
        "    # datagen(X_train2,y_train2,)\n",
        "    (X_train2,X_train_letter), y_train,\n",
        "    # X_train2, y_train,\n",
        "    epochs=epochs, \n",
        "    steps_per_epoch=X_train2.shape[0]//32,\n",
        "    validation_data=((X_val2,X_val_letter), y_val),\n",
        "    # validation_data=(X_val2, y_val),\n",
        "    callbacks=[annealer,keras.callbacks.EarlyStopping(patience=patience,restore_best_weights=True,monitor='val_accuracy',mode='max')]\n",
        "    # verbose=0\n",
        ")"
      ],
      "execution_count": null,
      "outputs": [
        {
          "output_type": "stream",
          "text": [
            "Epoch 1/200\n",
            "57/57 [==============================] - 1s 16ms/step - loss: 1.9948 - accuracy: 0.2868 - val_loss: 2.6670 - val_accuracy: 0.1073\n",
            "Epoch 2/200\n",
            "57/57 [==============================] - 1s 10ms/step - loss: 1.3898 - accuracy: 0.5107 - val_loss: 2.1973 - val_accuracy: 0.1561\n",
            "Epoch 3/200\n",
            "57/57 [==============================] - 1s 10ms/step - loss: 0.9957 - accuracy: 0.6626 - val_loss: 2.8717 - val_accuracy: 0.1317\n",
            "Epoch 4/200\n",
            "57/57 [==============================] - 1s 10ms/step - loss: 0.7182 - accuracy: 0.7628 - val_loss: 5.2458 - val_accuracy: 0.1073\n",
            "Epoch 5/200\n",
            "57/57 [==============================] - 1s 10ms/step - loss: 0.5994 - accuracy: 0.7862 - val_loss: 4.3239 - val_accuracy: 0.1122\n",
            "Epoch 6/200\n",
            "57/57 [==============================] - 1s 11ms/step - loss: 0.5559 - accuracy: 0.8129 - val_loss: 3.0326 - val_accuracy: 0.2244\n",
            "Epoch 7/200\n",
            "57/57 [==============================] - 1s 10ms/step - loss: 0.4420 - accuracy: 0.8491 - val_loss: 3.5471 - val_accuracy: 0.2146\n",
            "Epoch 8/200\n",
            "57/57 [==============================] - 1s 11ms/step - loss: 0.3523 - accuracy: 0.8779 - val_loss: 1.7484 - val_accuracy: 0.4780\n",
            "Epoch 9/200\n",
            "57/57 [==============================] - 1s 11ms/step - loss: 0.2776 - accuracy: 0.8955 - val_loss: 1.7981 - val_accuracy: 0.5220\n",
            "Epoch 10/200\n",
            "57/57 [==============================] - 1s 11ms/step - loss: 0.2812 - accuracy: 0.9078 - val_loss: 0.5734 - val_accuracy: 0.8293\n",
            "Epoch 11/200\n",
            "57/57 [==============================] - 1s 10ms/step - loss: 0.2120 - accuracy: 0.9227 - val_loss: 0.7598 - val_accuracy: 0.7659\n",
            "Epoch 12/200\n",
            "57/57 [==============================] - 1s 11ms/step - loss: 0.1636 - accuracy: 0.9478 - val_loss: 0.5970 - val_accuracy: 0.8195\n",
            "Epoch 13/200\n",
            "57/57 [==============================] - 1s 10ms/step - loss: 0.1565 - accuracy: 0.9472 - val_loss: 0.4785 - val_accuracy: 0.8195\n",
            "Epoch 14/200\n",
            "57/57 [==============================] - 1s 11ms/step - loss: 0.1207 - accuracy: 0.9606 - val_loss: 0.4330 - val_accuracy: 0.8780\n",
            "Epoch 15/200\n",
            "57/57 [==============================] - 1s 10ms/step - loss: 0.1014 - accuracy: 0.9664 - val_loss: 0.5822 - val_accuracy: 0.8585\n",
            "Epoch 16/200\n",
            "57/57 [==============================] - 1s 10ms/step - loss: 0.0830 - accuracy: 0.9765 - val_loss: 0.4811 - val_accuracy: 0.8732\n",
            "Epoch 17/200\n",
            "57/57 [==============================] - 1s 10ms/step - loss: 0.0749 - accuracy: 0.9765 - val_loss: 0.5511 - val_accuracy: 0.8732\n",
            "Epoch 18/200\n",
            "57/57 [==============================] - 1s 10ms/step - loss: 0.0552 - accuracy: 0.9819 - val_loss: 0.5239 - val_accuracy: 0.8683\n",
            "Epoch 19/200\n",
            "57/57 [==============================] - 1s 10ms/step - loss: 0.0521 - accuracy: 0.9851 - val_loss: 0.5251 - val_accuracy: 0.8634\n",
            "Epoch 20/200\n",
            "57/57 [==============================] - 1s 10ms/step - loss: 0.0451 - accuracy: 0.9851 - val_loss: 0.4310 - val_accuracy: 0.8634\n",
            "Epoch 21/200\n",
            "57/57 [==============================] - 1s 10ms/step - loss: 0.0400 - accuracy: 0.9893 - val_loss: 0.4747 - val_accuracy: 0.8683\n",
            "Epoch 22/200\n",
            "57/57 [==============================] - 1s 10ms/step - loss: 0.0289 - accuracy: 0.9899 - val_loss: 0.4809 - val_accuracy: 0.8780\n",
            "Epoch 23/200\n",
            "57/57 [==============================] - 1s 11ms/step - loss: 0.0242 - accuracy: 0.9925 - val_loss: 0.5217 - val_accuracy: 0.8829\n",
            "Epoch 24/200\n",
            "57/57 [==============================] - 1s 10ms/step - loss: 0.0280 - accuracy: 0.9920 - val_loss: 0.5470 - val_accuracy: 0.8439\n",
            "Epoch 25/200\n",
            "57/57 [==============================] - 1s 10ms/step - loss: 0.0255 - accuracy: 0.9920 - val_loss: 0.4856 - val_accuracy: 0.8488\n",
            "Epoch 26/200\n",
            "57/57 [==============================] - 1s 10ms/step - loss: 0.0210 - accuracy: 0.9952 - val_loss: 0.5434 - val_accuracy: 0.8634\n",
            "Epoch 27/200\n",
            "57/57 [==============================] - 1s 11ms/step - loss: 0.0206 - accuracy: 0.9941 - val_loss: 0.4311 - val_accuracy: 0.8976\n",
            "Epoch 28/200\n",
            "57/57 [==============================] - 1s 10ms/step - loss: 0.0214 - accuracy: 0.9936 - val_loss: 0.5344 - val_accuracy: 0.8634\n",
            "Epoch 29/200\n",
            "57/57 [==============================] - 1s 10ms/step - loss: 0.0220 - accuracy: 0.9936 - val_loss: 0.5507 - val_accuracy: 0.8780\n",
            "Epoch 30/200\n",
            "57/57 [==============================] - 1s 11ms/step - loss: 0.0158 - accuracy: 0.9952 - val_loss: 0.5558 - val_accuracy: 0.8829\n",
            "Epoch 31/200\n",
            "57/57 [==============================] - 1s 10ms/step - loss: 0.0164 - accuracy: 0.9952 - val_loss: 0.4975 - val_accuracy: 0.8683\n",
            "Epoch 32/200\n",
            "57/57 [==============================] - 1s 10ms/step - loss: 0.0179 - accuracy: 0.9936 - val_loss: 0.4970 - val_accuracy: 0.8878\n",
            "Epoch 33/200\n",
            "57/57 [==============================] - 1s 10ms/step - loss: 0.0121 - accuracy: 0.9968 - val_loss: 0.4918 - val_accuracy: 0.8829\n",
            "Epoch 34/200\n",
            "57/57 [==============================] - 1s 10ms/step - loss: 0.0162 - accuracy: 0.9957 - val_loss: 0.4958 - val_accuracy: 0.8683\n",
            "Epoch 35/200\n",
            "57/57 [==============================] - 1s 10ms/step - loss: 0.0146 - accuracy: 0.9973 - val_loss: 0.5325 - val_accuracy: 0.8829\n",
            "Epoch 36/200\n",
            "57/57 [==============================] - 1s 10ms/step - loss: 0.0155 - accuracy: 0.9947 - val_loss: 0.5612 - val_accuracy: 0.8585\n",
            "Epoch 37/200\n",
            "57/57 [==============================] - 1s 10ms/step - loss: 0.0094 - accuracy: 0.9979 - val_loss: 0.5851 - val_accuracy: 0.8634\n",
            "Epoch 38/200\n",
            "57/57 [==============================] - 1s 10ms/step - loss: 0.0061 - accuracy: 0.9984 - val_loss: 0.5740 - val_accuracy: 0.8732\n",
            "Epoch 39/200\n",
            "57/57 [==============================] - 1s 10ms/step - loss: 0.0070 - accuracy: 0.9973 - val_loss: 0.4969 - val_accuracy: 0.8829\n",
            "Epoch 40/200\n",
            "57/57 [==============================] - 1s 10ms/step - loss: 0.0174 - accuracy: 0.9963 - val_loss: 0.5294 - val_accuracy: 0.8585\n",
            "Epoch 41/200\n",
            "57/57 [==============================] - 1s 10ms/step - loss: 0.0054 - accuracy: 0.9984 - val_loss: 0.4972 - val_accuracy: 0.8732\n",
            "Epoch 42/200\n",
            "57/57 [==============================] - 1s 10ms/step - loss: 0.0082 - accuracy: 0.9979 - val_loss: 0.5038 - val_accuracy: 0.8732\n",
            "Epoch 43/200\n",
            "57/57 [==============================] - 1s 10ms/step - loss: 0.0084 - accuracy: 0.9984 - val_loss: 0.4885 - val_accuracy: 0.8780\n",
            "Epoch 44/200\n",
            "57/57 [==============================] - 1s 11ms/step - loss: 0.0061 - accuracy: 0.9989 - val_loss: 0.5222 - val_accuracy: 0.8683\n",
            "Epoch 45/200\n",
            "57/57 [==============================] - 1s 10ms/step - loss: 0.0053 - accuracy: 0.9984 - val_loss: 0.5299 - val_accuracy: 0.8683\n",
            "Epoch 46/200\n",
            "57/57 [==============================] - 1s 10ms/step - loss: 0.0051 - accuracy: 0.9989 - val_loss: 0.5124 - val_accuracy: 0.8634\n",
            "Epoch 47/200\n",
            "57/57 [==============================] - 1s 11ms/step - loss: 0.0040 - accuracy: 0.9995 - val_loss: 0.5657 - val_accuracy: 0.8634\n",
            "Epoch 48/200\n",
            "57/57 [==============================] - 1s 10ms/step - loss: 0.0038 - accuracy: 1.0000 - val_loss: 0.5164 - val_accuracy: 0.8683\n",
            "Epoch 49/200\n",
            "57/57 [==============================] - 1s 11ms/step - loss: 0.0035 - accuracy: 0.9995 - val_loss: 0.5219 - val_accuracy: 0.8683\n",
            "Epoch 50/200\n",
            "57/57 [==============================] - 1s 10ms/step - loss: 0.0056 - accuracy: 0.9984 - val_loss: 0.5643 - val_accuracy: 0.8634\n",
            "Epoch 51/200\n",
            "57/57 [==============================] - 1s 10ms/step - loss: 0.0048 - accuracy: 0.9989 - val_loss: 0.5595 - val_accuracy: 0.8585\n",
            "Epoch 52/200\n",
            "57/57 [==============================] - 1s 10ms/step - loss: 0.0043 - accuracy: 0.9989 - val_loss: 0.5502 - val_accuracy: 0.8634\n",
            "Epoch 53/200\n",
            "57/57 [==============================] - 1s 10ms/step - loss: 0.0054 - accuracy: 0.9984 - val_loss: 0.5597 - val_accuracy: 0.8634\n",
            "Epoch 54/200\n",
            "57/57 [==============================] - 1s 11ms/step - loss: 0.0023 - accuracy: 1.0000 - val_loss: 0.5602 - val_accuracy: 0.8537\n",
            "Epoch 55/200\n",
            "57/57 [==============================] - 1s 11ms/step - loss: 0.0023 - accuracy: 1.0000 - val_loss: 0.5660 - val_accuracy: 0.8732\n",
            "Epoch 56/200\n",
            "57/57 [==============================] - 1s 10ms/step - loss: 0.0030 - accuracy: 0.9989 - val_loss: 0.5855 - val_accuracy: 0.8488\n",
            "Epoch 57/200\n",
            "57/57 [==============================] - 1s 11ms/step - loss: 0.0064 - accuracy: 0.9979 - val_loss: 0.5303 - val_accuracy: 0.8780\n",
            "Epoch 58/200\n",
            "57/57 [==============================] - 1s 10ms/step - loss: 0.0040 - accuracy: 0.9984 - val_loss: 0.5337 - val_accuracy: 0.8732\n",
            "Epoch 59/200\n",
            "57/57 [==============================] - 1s 10ms/step - loss: 0.0020 - accuracy: 0.9995 - val_loss: 0.5280 - val_accuracy: 0.8732\n",
            "Epoch 60/200\n",
            "57/57 [==============================] - 1s 10ms/step - loss: 0.0038 - accuracy: 0.9989 - val_loss: 0.5378 - val_accuracy: 0.8488\n",
            "Epoch 61/200\n",
            "57/57 [==============================] - 1s 10ms/step - loss: 0.0039 - accuracy: 0.9984 - val_loss: 0.5920 - val_accuracy: 0.8780\n",
            "Epoch 62/200\n",
            "57/57 [==============================] - 1s 11ms/step - loss: 0.0025 - accuracy: 1.0000 - val_loss: 0.5818 - val_accuracy: 0.8780\n",
            "Epoch 63/200\n",
            "57/57 [==============================] - 1s 10ms/step - loss: 0.0024 - accuracy: 0.9995 - val_loss: 0.5671 - val_accuracy: 0.8634\n",
            "Epoch 64/200\n",
            "57/57 [==============================] - 1s 11ms/step - loss: 0.0055 - accuracy: 0.9989 - val_loss: 0.5448 - val_accuracy: 0.8488\n",
            "Epoch 65/200\n",
            "57/57 [==============================] - 1s 11ms/step - loss: 0.0020 - accuracy: 1.0000 - val_loss: 0.5289 - val_accuracy: 0.8439\n",
            "Epoch 66/200\n",
            "57/57 [==============================] - 1s 10ms/step - loss: 0.0039 - accuracy: 0.9989 - val_loss: 0.4967 - val_accuracy: 0.8537\n",
            "Epoch 67/200\n",
            "57/57 [==============================] - 1s 11ms/step - loss: 0.0027 - accuracy: 0.9995 - val_loss: 0.4952 - val_accuracy: 0.8537\n",
            "Epoch 68/200\n",
            "57/57 [==============================] - 1s 10ms/step - loss: 0.0022 - accuracy: 0.9995 - val_loss: 0.5146 - val_accuracy: 0.8634\n",
            "Epoch 69/200\n",
            "57/57 [==============================] - 1s 10ms/step - loss: 0.0023 - accuracy: 0.9995 - val_loss: 0.5331 - val_accuracy: 0.8732\n",
            "Epoch 70/200\n",
            "57/57 [==============================] - 1s 11ms/step - loss: 0.0020 - accuracy: 0.9995 - val_loss: 0.5145 - val_accuracy: 0.8683\n",
            "Epoch 71/200\n",
            "57/57 [==============================] - 1s 11ms/step - loss: 0.0031 - accuracy: 0.9989 - val_loss: 0.5642 - val_accuracy: 0.8732\n",
            "Epoch 72/200\n",
            "57/57 [==============================] - 1s 11ms/step - loss: 0.0030 - accuracy: 0.9989 - val_loss: 0.5004 - val_accuracy: 0.8683\n",
            "Epoch 73/200\n",
            "57/57 [==============================] - 1s 10ms/step - loss: 0.0020 - accuracy: 1.0000 - val_loss: 0.5065 - val_accuracy: 0.8634\n",
            "Epoch 74/200\n",
            "57/57 [==============================] - 1s 11ms/step - loss: 0.0032 - accuracy: 0.9995 - val_loss: 0.5030 - val_accuracy: 0.8634\n",
            "Epoch 75/200\n",
            "57/57 [==============================] - 1s 11ms/step - loss: 0.0020 - accuracy: 0.9995 - val_loss: 0.5128 - val_accuracy: 0.8585\n",
            "Epoch 76/200\n",
            "57/57 [==============================] - 1s 10ms/step - loss: 0.0020 - accuracy: 0.9995 - val_loss: 0.5228 - val_accuracy: 0.8634\n",
            "Epoch 77/200\n",
            "57/57 [==============================] - 1s 11ms/step - loss: 0.0025 - accuracy: 0.9995 - val_loss: 0.5276 - val_accuracy: 0.8537\n",
            "Epoch 78/200\n",
            "57/57 [==============================] - 1s 10ms/step - loss: 0.0036 - accuracy: 0.9995 - val_loss: 0.5295 - val_accuracy: 0.8585\n",
            "Epoch 79/200\n",
            "57/57 [==============================] - 1s 10ms/step - loss: 0.0034 - accuracy: 0.9995 - val_loss: 0.5354 - val_accuracy: 0.8585\n",
            "Epoch 80/200\n",
            "57/57 [==============================] - 1s 11ms/step - loss: 0.0033 - accuracy: 0.9984 - val_loss: 0.5520 - val_accuracy: 0.8634\n",
            "Epoch 81/200\n",
            "57/57 [==============================] - 1s 10ms/step - loss: 0.0037 - accuracy: 0.9984 - val_loss: 0.5462 - val_accuracy: 0.8732\n",
            "Epoch 82/200\n",
            "57/57 [==============================] - 1s 10ms/step - loss: 0.0019 - accuracy: 1.0000 - val_loss: 0.5466 - val_accuracy: 0.8732\n",
            "Epoch 83/200\n",
            "57/57 [==============================] - 1s 10ms/step - loss: 0.0036 - accuracy: 0.9995 - val_loss: 0.5467 - val_accuracy: 0.8732\n",
            "Epoch 84/200\n",
            "57/57 [==============================] - 1s 10ms/step - loss: 0.0029 - accuracy: 0.9995 - val_loss: 0.5571 - val_accuracy: 0.8780\n",
            "Epoch 85/200\n",
            "57/57 [==============================] - 1s 10ms/step - loss: 0.0019 - accuracy: 1.0000 - val_loss: 0.5516 - val_accuracy: 0.8780\n",
            "Epoch 86/200\n",
            "57/57 [==============================] - 1s 10ms/step - loss: 0.0016 - accuracy: 1.0000 - val_loss: 0.5407 - val_accuracy: 0.8683\n",
            "Epoch 87/200\n",
            "57/57 [==============================] - 1s 10ms/step - loss: 0.0017 - accuracy: 0.9995 - val_loss: 0.5258 - val_accuracy: 0.8683\n",
            "Epoch 88/200\n",
            "57/57 [==============================] - 1s 10ms/step - loss: 0.0015 - accuracy: 1.0000 - val_loss: 0.5313 - val_accuracy: 0.8683\n",
            "Epoch 89/200\n",
            "57/57 [==============================] - 1s 10ms/step - loss: 0.0022 - accuracy: 0.9995 - val_loss: 0.5378 - val_accuracy: 0.8683\n",
            "Epoch 90/200\n",
            "57/57 [==============================] - 1s 10ms/step - loss: 0.0023 - accuracy: 0.9995 - val_loss: 0.5423 - val_accuracy: 0.8732\n",
            "Epoch 91/200\n",
            "57/57 [==============================] - 1s 11ms/step - loss: 0.0016 - accuracy: 1.0000 - val_loss: 0.5344 - val_accuracy: 0.8634\n",
            "Epoch 92/200\n",
            "57/57 [==============================] - 1s 10ms/step - loss: 8.4696e-04 - accuracy: 1.0000 - val_loss: 0.5391 - val_accuracy: 0.8732\n",
            "Epoch 93/200\n",
            "57/57 [==============================] - 1s 10ms/step - loss: 8.8242e-04 - accuracy: 1.0000 - val_loss: 0.5364 - val_accuracy: 0.8732\n",
            "Epoch 94/200\n",
            "57/57 [==============================] - 1s 11ms/step - loss: 0.0016 - accuracy: 0.9995 - val_loss: 0.5341 - val_accuracy: 0.8732\n",
            "Epoch 95/200\n",
            "57/57 [==============================] - 1s 11ms/step - loss: 9.0372e-04 - accuracy: 1.0000 - val_loss: 0.5365 - val_accuracy: 0.8732\n",
            "Epoch 96/200\n",
            "57/57 [==============================] - 1s 10ms/step - loss: 0.0015 - accuracy: 1.0000 - val_loss: 0.5386 - val_accuracy: 0.8683\n",
            "Epoch 97/200\n",
            "57/57 [==============================] - 1s 10ms/step - loss: 0.0014 - accuracy: 0.9995 - val_loss: 0.5403 - val_accuracy: 0.8683\n",
            "Epoch 98/200\n",
            "57/57 [==============================] - 1s 10ms/step - loss: 0.0013 - accuracy: 0.9995 - val_loss: 0.5418 - val_accuracy: 0.8683\n",
            "Epoch 99/200\n",
            "57/57 [==============================] - 1s 10ms/step - loss: 0.0013 - accuracy: 1.0000 - val_loss: 0.5359 - val_accuracy: 0.8683\n",
            "Epoch 100/200\n",
            "57/57 [==============================] - 1s 10ms/step - loss: 0.0017 - accuracy: 1.0000 - val_loss: 0.5326 - val_accuracy: 0.8683\n",
            "Epoch 101/200\n",
            "57/57 [==============================] - 1s 10ms/step - loss: 0.0023 - accuracy: 0.9989 - val_loss: 0.5200 - val_accuracy: 0.8683\n",
            "Epoch 102/200\n",
            "57/57 [==============================] - 1s 10ms/step - loss: 0.0024 - accuracy: 0.9995 - val_loss: 0.5117 - val_accuracy: 0.8683\n",
            "Epoch 103/200\n",
            "57/57 [==============================] - 1s 10ms/step - loss: 0.0020 - accuracy: 0.9995 - val_loss: 0.5203 - val_accuracy: 0.8634\n",
            "Epoch 104/200\n",
            "57/57 [==============================] - 1s 10ms/step - loss: 0.0012 - accuracy: 1.0000 - val_loss: 0.5234 - val_accuracy: 0.8585\n",
            "Epoch 105/200\n",
            "57/57 [==============================] - 1s 10ms/step - loss: 9.8042e-04 - accuracy: 1.0000 - val_loss: 0.5242 - val_accuracy: 0.8683\n",
            "Epoch 106/200\n",
            "57/57 [==============================] - 1s 10ms/step - loss: 9.5665e-04 - accuracy: 1.0000 - val_loss: 0.5212 - val_accuracy: 0.8634\n",
            "Epoch 107/200\n",
            "57/57 [==============================] - 1s 10ms/step - loss: 0.0017 - accuracy: 1.0000 - val_loss: 0.5236 - val_accuracy: 0.8585\n",
            "Epoch 108/200\n",
            "57/57 [==============================] - 1s 10ms/step - loss: 0.0028 - accuracy: 0.9995 - val_loss: 0.5221 - val_accuracy: 0.8634\n",
            "Epoch 109/200\n",
            "57/57 [==============================] - 1s 10ms/step - loss: 0.0018 - accuracy: 1.0000 - val_loss: 0.5245 - val_accuracy: 0.8634\n",
            "Epoch 110/200\n",
            "57/57 [==============================] - 1s 10ms/step - loss: 0.0010 - accuracy: 1.0000 - val_loss: 0.5248 - val_accuracy: 0.8634\n",
            "Epoch 111/200\n",
            "57/57 [==============================] - 1s 10ms/step - loss: 0.0020 - accuracy: 0.9989 - val_loss: 0.5271 - val_accuracy: 0.8634\n",
            "Epoch 112/200\n",
            "57/57 [==============================] - 1s 10ms/step - loss: 0.0039 - accuracy: 0.9984 - val_loss: 0.5237 - val_accuracy: 0.8634\n",
            "Epoch 113/200\n",
            "57/57 [==============================] - 1s 10ms/step - loss: 0.0029 - accuracy: 0.9989 - val_loss: 0.5278 - val_accuracy: 0.8634\n",
            "Epoch 114/200\n",
            "57/57 [==============================] - 1s 10ms/step - loss: 0.0017 - accuracy: 0.9995 - val_loss: 0.5277 - val_accuracy: 0.8732\n",
            "Epoch 115/200\n",
            "57/57 [==============================] - 1s 10ms/step - loss: 0.0014 - accuracy: 1.0000 - val_loss: 0.5279 - val_accuracy: 0.8732\n",
            "Epoch 116/200\n",
            "57/57 [==============================] - 1s 10ms/step - loss: 0.0034 - accuracy: 0.9995 - val_loss: 0.5269 - val_accuracy: 0.8634\n",
            "Epoch 117/200\n",
            "57/57 [==============================] - 1s 10ms/step - loss: 7.2885e-04 - accuracy: 1.0000 - val_loss: 0.5275 - val_accuracy: 0.8634\n",
            "Epoch 118/200\n",
            "57/57 [==============================] - 1s 10ms/step - loss: 0.0015 - accuracy: 1.0000 - val_loss: 0.5275 - val_accuracy: 0.8585\n",
            "Epoch 119/200\n",
            "57/57 [==============================] - 1s 10ms/step - loss: 0.0018 - accuracy: 1.0000 - val_loss: 0.5275 - val_accuracy: 0.8585\n",
            "Epoch 120/200\n",
            "57/57 [==============================] - 1s 10ms/step - loss: 9.9475e-04 - accuracy: 1.0000 - val_loss: 0.5278 - val_accuracy: 0.8585\n",
            "Epoch 121/200\n",
            "57/57 [==============================] - 1s 10ms/step - loss: 0.0033 - accuracy: 0.9995 - val_loss: 0.5279 - val_accuracy: 0.8634\n",
            "Epoch 122/200\n",
            "57/57 [==============================] - 1s 10ms/step - loss: 0.0021 - accuracy: 0.9995 - val_loss: 0.5282 - val_accuracy: 0.8634\n",
            "Epoch 123/200\n",
            "57/57 [==============================] - 1s 10ms/step - loss: 0.0021 - accuracy: 0.9995 - val_loss: 0.5304 - val_accuracy: 0.8634\n",
            "Epoch 124/200\n",
            "57/57 [==============================] - 1s 10ms/step - loss: 0.0027 - accuracy: 0.9995 - val_loss: 0.5279 - val_accuracy: 0.8634\n",
            "Epoch 125/200\n",
            "57/57 [==============================] - 1s 10ms/step - loss: 0.0013 - accuracy: 0.9995 - val_loss: 0.5267 - val_accuracy: 0.8634\n",
            "Epoch 126/200\n",
            "57/57 [==============================] - 1s 11ms/step - loss: 0.0026 - accuracy: 0.9989 - val_loss: 0.5284 - val_accuracy: 0.8585\n",
            "Epoch 127/200\n",
            "57/57 [==============================] - 1s 11ms/step - loss: 6.8555e-04 - accuracy: 1.0000 - val_loss: 0.5290 - val_accuracy: 0.8634\n"
          ],
          "name": "stdout"
        }
      ]
    },
    {
      "cell_type": "code",
      "metadata": {
        "id": "hBoLSaYIgWBc",
        "colab": {
          "base_uri": "https://localhost:8080/",
          "height": 283
        },
        "outputId": "d700084a-3ea9-432d-dcf6-31fa7a70aa7b"
      },
      "source": [
        "plt.plot(history.history[\"val_loss\"][12:])"
      ],
      "execution_count": null,
      "outputs": [
        {
          "output_type": "execute_result",
          "data": {
            "text/plain": [
              "[<matplotlib.lines.Line2D at 0x7f00980c7518>]"
            ]
          },
          "metadata": {
            "tags": []
          },
          "execution_count": 19
        },
        {
          "output_type": "display_data",
          "data": {
            "image/png": "[encoded data removed]",
            "text/plain": [
              "<Figure size 432x288 with 1 Axes>"
            ]
          },
          "metadata": {
            "tags": [],
            "needs_background": "light"
          }
        }
      ]
    },
    {
      "cell_type": "code",
      "metadata": {
        "id": "f6Bq0rJy9P7a",
        "colab": {
          "base_uri": "https://localhost:8080/",
          "height": 283
        },
        "outputId": "5d9d1051-5a20-4a10-f64f-b7806fd8e7a0"
      },
      "source": [
        "plt.plot(history.history['val_accuracy'][11:])"
      ],
      "execution_count": null,
      "outputs": [
        {
          "output_type": "execute_result",
          "data": {
            "text/plain": [
              "[<matplotlib.lines.Line2D at 0x7f0098053a90>]"
            ]
          },
          "metadata": {
            "tags": []
          },
          "execution_count": 20
        },
        {
          "output_type": "display_data",
          "data": {
            "image/png": "[encoded data removed]",
            "text/plain": [
              "<Figure size 432x288 with 1 Axes>"
            ]
          },
          "metadata": {
            "tags": [],
            "needs_background": "light"
          }
        }
      ]
    },
    {
      "cell_type": "code",
      "metadata": {
        "id": "OGYRZGdV4DBx",
        "colab": {
          "base_uri": "https://localhost:8080/",
          "height": 89
        },
        "outputId": "5ba4af0a-c814-4833-e63b-b687b7616d2f"
      },
      "source": [
        "print(\"loss:\\t\\t{1}\\naccuracy:\\t{0}\\nval_loss:\\t{2}\\nval_accuracy:\\t{3}\".format(history.history[\"accuracy\"][16],history.history[\"loss\"][16],\n",
        "                                                                   history.history['val_loss'][16],history.history['val_accuracy'][16]))"
      ],
      "execution_count": null,
      "outputs": [
        {
          "output_type": "stream",
          "text": [
            "loss:\t\t0.07491633296012878\n",
            "accuracy:\t0.9765458703041077\n",
            "val_loss:\t0.5510939359664917\n",
            "val_accuracy:\t0.8731707334518433\n"
          ],
          "name": "stdout"
        }
      ]
    },
    {
      "cell_type": "code",
      "metadata": {
        "id": "hJI9N4uvgTny",
        "colab": {
          "base_uri": "https://localhost:8080/",
          "height": 53
        },
        "outputId": "c41afcab-bc35-4b92-9f8e-1477222f8755"
      },
      "source": [
        "model.evaluate((X_val2,X_val_letter), y_val)"
      ],
      "execution_count": null,
      "outputs": [
        {
          "output_type": "stream",
          "text": [
            "7/7 [==============================] - 0s 5ms/step - loss: 0.0085 - accuracy: 0.9951\n"
          ],
          "name": "stdout"
        },
        {
          "output_type": "execute_result",
          "data": {
            "text/plain": [
              "[0.008545320481061935, 0.995121955871582]"
            ]
          },
          "metadata": {
            "tags": []
          },
          "execution_count": 54
        }
      ]
    },
    {
      "cell_type": "code",
      "metadata": {
        "id": "Q_TxoS2XVQnw"
      },
      "source": [
        "# 아마 성능 향상의 가장 큰 요인, 데이터 증강\n",
        "# CREATE MORE IMAGES VIA DATA AUGMENTATION\n",
        "datagen = ImageDataGenerator(\n",
        "        rotation_range=10,  \n",
        "        zoom_range = 0.10,  \n",
        "        width_shift_range=0.1, \n",
        "        height_shift_range=0.1)"
      ],
      "execution_count": null,
      "outputs": []
    },
    {
      "cell_type": "code",
      "metadata": {
        "id": "Ubc4B0bJJEVi",
        "colab": {
          "base_uri": "https://localhost:8080/",
          "height": 629
        },
        "outputId": "92316127-d1ec-4a56-973d-aeff55823746"
      },
      "source": [],
      "execution_count": null,
      "outputs": [
        {
          "output_type": "stream",
          "text": [
            "Model: \"sequential_5\"\n",
            "_________________________________________________________________\n",
            "Layer (type)                 Output Shape              Param #   \n",
            "=================================================================\n",
            "conv2d_37 (Conv2D)           (None, 26, 26, 32)        320       \n",
            "_________________________________________________________________\n",
            "conv2d_38 (Conv2D)           (None, 24, 24, 32)        9248      \n",
            "_________________________________________________________________\n",
            "conv2d_39 (Conv2D)           (None, 12, 12, 32)        9248      \n",
            "_________________________________________________________________\n",
            "dropout_14 (Dropout)         (None, 12, 12, 32)        0         \n",
            "_________________________________________________________________\n",
            "conv2d_40 (Conv2D)           (None, 10, 10, 64)        18496     \n",
            "_________________________________________________________________\n",
            "conv2d_41 (Conv2D)           (None, 8, 8, 64)          36928     \n",
            "_________________________________________________________________\n",
            "conv2d_42 (Conv2D)           (None, 4, 4, 64)          102464    \n",
            "_________________________________________________________________\n",
            "dropout_15 (Dropout)         (None, 4, 4, 64)          0         \n",
            "_________________________________________________________________\n",
            "conv2d_43 (Conv2D)           (None, 2, 2, 128)         73856     \n",
            "_________________________________________________________________\n",
            "conv2d_44 (Conv2D)           (None, 1, 1, 128)         65664     \n",
            "_________________________________________________________________\n",
            "flatten_4 (Flatten)          (None, 128)               0         \n",
            "_________________________________________________________________\n",
            "dropout_16 (Dropout)         (None, 128)               0         \n",
            "_________________________________________________________________\n",
            "dense_4 (Dense)              (None, 26)                3354      \n",
            "=================================================================\n",
            "Total params: 319,578\n",
            "Trainable params: 319,578\n",
            "Non-trainable params: 0\n",
            "_________________________________________________________________\n"
          ],
          "name": "stdout"
        }
      ]
    },
    {
      "cell_type": "code",
      "metadata": {
        "id": "mrKa-LQ_JFO1"
      },
      "source": [],
      "execution_count": null,
      "outputs": []
    },
    {
      "cell_type": "code",
      "metadata": {
        "id": "vLIu0D7mJaRf",
        "colab": {
          "base_uri": "https://localhost:8080/",
          "height": 35
        },
        "outputId": "f6006c31-dd13-4f6c-eec8-286da5519ab9"
      },
      "source": [
        "X_train2.shape"
      ],
      "execution_count": null,
      "outputs": [
        {
          "output_type": "execute_result",
          "data": {
            "text/plain": [
              "(1843, 28, 28, 1)"
            ]
          },
          "metadata": {
            "tags": []
          },
          "execution_count": 14
        }
      ]
    },
    {
      "cell_type": "code",
      "metadata": {
        "id": "YhNzwl-UQZlF"
      },
      "source": [
        "# Parameter 및 모델 구조 저장\n",
        "model.save_weights(f'/content/drive/My Drive/dacon결과/renet/dacon.h5')\n",
        "    \n",
        "model_json = model.to_json()\n",
        "with open(f\"model_829_tmp.json\", \"w\") as json_file : \n",
        "    json_file.write(model_json)\n",
        "    "
      ],
      "execution_count": null,
      "outputs": []
    },
    {
      "cell_type": "code",
      "metadata": {
        "id": "LAE0-Bb4iyUQ",
        "colab": {
          "base_uri": "https://localhost:8080/",
          "height": 253
        },
        "outputId": "44c959ad-2430-4e7b-bb7a-6f2fe7941829"
      },
      "source": [
        "test.head()"
      ],
      "execution_count": null,
      "outputs": [
        {
          "output_type": "execute_result",
          "data": {
            "text/html": [
              "<div>\n",
              "<style scoped>\n",
              "    .dataframe tbody tr th:only-of-type {\n",
              "        vertical-align: middle;\n",
              "    }\n",
              "\n",
              "    .dataframe tbody tr th {\n",
              "        vertical-align: top;\n",
              "    }\n",
              "\n",
              "    .dataframe thead th {\n",
              "        text-align: right;\n",
              "    }\n",
              "</style>\n",
              "<table border=\"1\" class=\"dataframe\">\n",
              "  <thead>\n",
              "    <tr style=\"text-align: right;\">\n",
              "      <th></th>\n",
              "      <th>id</th>\n",
              "      <th>letter</th>\n",
              "      <th>0</th>\n",
              "      <th>1</th>\n",
              "      <th>2</th>\n",
              "      <th>3</th>\n",
              "      <th>4</th>\n",
              "      <th>5</th>\n",
              "      <th>6</th>\n",
              "      <th>7</th>\n",
              "      <th>8</th>\n",
              "      <th>9</th>\n",
              "      <th>10</th>\n",
              "      <th>11</th>\n",
              "      <th>12</th>\n",
              "      <th>13</th>\n",
              "      <th>14</th>\n",
              "      <th>15</th>\n",
              "      <th>16</th>\n",
              "      <th>17</th>\n",
              "      <th>18</th>\n",
              "      <th>19</th>\n",
              "      <th>20</th>\n",
              "      <th>21</th>\n",
              "      <th>22</th>\n",
              "      <th>23</th>\n",
              "      <th>24</th>\n",
              "      <th>25</th>\n",
              "      <th>26</th>\n",
              "      <th>27</th>\n",
              "      <th>28</th>\n",
              "      <th>29</th>\n",
              "      <th>30</th>\n",
              "      <th>31</th>\n",
              "      <th>32</th>\n",
              "      <th>33</th>\n",
              "      <th>34</th>\n",
              "      <th>35</th>\n",
              "      <th>36</th>\n",
              "      <th>37</th>\n",
              "      <th>...</th>\n",
              "      <th>744</th>\n",
              "      <th>745</th>\n",
              "      <th>746</th>\n",
              "      <th>747</th>\n",
              "      <th>748</th>\n",
              "      <th>749</th>\n",
              "      <th>750</th>\n",
              "      <th>751</th>\n",
              "      <th>752</th>\n",
              "      <th>753</th>\n",
              "      <th>754</th>\n",
              "      <th>755</th>\n",
              "      <th>756</th>\n",
              "      <th>757</th>\n",
              "      <th>758</th>\n",
              "      <th>759</th>\n",
              "      <th>760</th>\n",
              "      <th>761</th>\n",
              "      <th>762</th>\n",
              "      <th>763</th>\n",
              "      <th>764</th>\n",
              "      <th>765</th>\n",
              "      <th>766</th>\n",
              "      <th>767</th>\n",
              "      <th>768</th>\n",
              "      <th>769</th>\n",
              "      <th>770</th>\n",
              "      <th>771</th>\n",
              "      <th>772</th>\n",
              "      <th>773</th>\n",
              "      <th>774</th>\n",
              "      <th>775</th>\n",
              "      <th>776</th>\n",
              "      <th>777</th>\n",
              "      <th>778</th>\n",
              "      <th>779</th>\n",
              "      <th>780</th>\n",
              "      <th>781</th>\n",
              "      <th>782</th>\n",
              "      <th>783</th>\n",
              "    </tr>\n",
              "  </thead>\n",
              "  <tbody>\n",
              "    <tr>\n",
              "      <th>0</th>\n",
              "      <td>2049</td>\n",
              "      <td>L</td>\n",
              "      <td>0</td>\n",
              "      <td>4</td>\n",
              "      <td>0</td>\n",
              "      <td>2</td>\n",
              "      <td>4</td>\n",
              "      <td>2</td>\n",
              "      <td>3</td>\n",
              "      <td>1</td>\n",
              "      <td>0</td>\n",
              "      <td>0</td>\n",
              "      <td>1</td>\n",
              "      <td>0</td>\n",
              "      <td>1</td>\n",
              "      <td>3</td>\n",
              "      <td>4</td>\n",
              "      <td>4</td>\n",
              "      <td>0</td>\n",
              "      <td>0</td>\n",
              "      <td>2</td>\n",
              "      <td>4</td>\n",
              "      <td>4</td>\n",
              "      <td>1</td>\n",
              "      <td>3</td>\n",
              "      <td>3</td>\n",
              "      <td>2</td>\n",
              "      <td>2</td>\n",
              "      <td>4</td>\n",
              "      <td>1</td>\n",
              "      <td>0</td>\n",
              "      <td>1</td>\n",
              "      <td>2</td>\n",
              "      <td>2</td>\n",
              "      <td>1</td>\n",
              "      <td>2</td>\n",
              "      <td>2</td>\n",
              "      <td>1</td>\n",
              "      <td>4</td>\n",
              "      <td>0</td>\n",
              "      <td>...</td>\n",
              "      <td>1</td>\n",
              "      <td>3</td>\n",
              "      <td>1</td>\n",
              "      <td>1</td>\n",
              "      <td>3</td>\n",
              "      <td>3</td>\n",
              "      <td>4</td>\n",
              "      <td>1</td>\n",
              "      <td>3</td>\n",
              "      <td>1</td>\n",
              "      <td>2</td>\n",
              "      <td>4</td>\n",
              "      <td>1</td>\n",
              "      <td>2</td>\n",
              "      <td>0</td>\n",
              "      <td>3</td>\n",
              "      <td>1</td>\n",
              "      <td>2</td>\n",
              "      <td>4</td>\n",
              "      <td>0</td>\n",
              "      <td>2</td>\n",
              "      <td>1</td>\n",
              "      <td>2</td>\n",
              "      <td>4</td>\n",
              "      <td>1</td>\n",
              "      <td>1</td>\n",
              "      <td>3</td>\n",
              "      <td>2</td>\n",
              "      <td>1</td>\n",
              "      <td>0</td>\n",
              "      <td>2</td>\n",
              "      <td>0</td>\n",
              "      <td>4</td>\n",
              "      <td>2</td>\n",
              "      <td>2</td>\n",
              "      <td>4</td>\n",
              "      <td>3</td>\n",
              "      <td>4</td>\n",
              "      <td>1</td>\n",
              "      <td>4</td>\n",
              "    </tr>\n",
              "    <tr>\n",
              "      <th>1</th>\n",
              "      <td>2050</td>\n",
              "      <td>C</td>\n",
              "      <td>4</td>\n",
              "      <td>1</td>\n",
              "      <td>4</td>\n",
              "      <td>0</td>\n",
              "      <td>1</td>\n",
              "      <td>1</td>\n",
              "      <td>0</td>\n",
              "      <td>2</td>\n",
              "      <td>2</td>\n",
              "      <td>1</td>\n",
              "      <td>0</td>\n",
              "      <td>3</td>\n",
              "      <td>0</td>\n",
              "      <td>1</td>\n",
              "      <td>1</td>\n",
              "      <td>4</td>\n",
              "      <td>1</td>\n",
              "      <td>2</td>\n",
              "      <td>0</td>\n",
              "      <td>2</td>\n",
              "      <td>2</td>\n",
              "      <td>0</td>\n",
              "      <td>4</td>\n",
              "      <td>3</td>\n",
              "      <td>4</td>\n",
              "      <td>0</td>\n",
              "      <td>2</td>\n",
              "      <td>4</td>\n",
              "      <td>4</td>\n",
              "      <td>2</td>\n",
              "      <td>1</td>\n",
              "      <td>2</td>\n",
              "      <td>4</td>\n",
              "      <td>0</td>\n",
              "      <td>4</td>\n",
              "      <td>2</td>\n",
              "      <td>0</td>\n",
              "      <td>2</td>\n",
              "      <td>...</td>\n",
              "      <td>3</td>\n",
              "      <td>4</td>\n",
              "      <td>2</td>\n",
              "      <td>6</td>\n",
              "      <td>2</td>\n",
              "      <td>2</td>\n",
              "      <td>0</td>\n",
              "      <td>1</td>\n",
              "      <td>2</td>\n",
              "      <td>4</td>\n",
              "      <td>1</td>\n",
              "      <td>1</td>\n",
              "      <td>3</td>\n",
              "      <td>3</td>\n",
              "      <td>2</td>\n",
              "      <td>3</td>\n",
              "      <td>4</td>\n",
              "      <td>2</td>\n",
              "      <td>2</td>\n",
              "      <td>4</td>\n",
              "      <td>3</td>\n",
              "      <td>1</td>\n",
              "      <td>3</td>\n",
              "      <td>3</td>\n",
              "      <td>3</td>\n",
              "      <td>1</td>\n",
              "      <td>3</td>\n",
              "      <td>4</td>\n",
              "      <td>4</td>\n",
              "      <td>2</td>\n",
              "      <td>0</td>\n",
              "      <td>3</td>\n",
              "      <td>2</td>\n",
              "      <td>4</td>\n",
              "      <td>2</td>\n",
              "      <td>4</td>\n",
              "      <td>2</td>\n",
              "      <td>2</td>\n",
              "      <td>1</td>\n",
              "      <td>2</td>\n",
              "    </tr>\n",
              "    <tr>\n",
              "      <th>2</th>\n",
              "      <td>2051</td>\n",
              "      <td>S</td>\n",
              "      <td>0</td>\n",
              "      <td>4</td>\n",
              "      <td>0</td>\n",
              "      <td>1</td>\n",
              "      <td>3</td>\n",
              "      <td>2</td>\n",
              "      <td>3</td>\n",
              "      <td>0</td>\n",
              "      <td>2</td>\n",
              "      <td>1</td>\n",
              "      <td>2</td>\n",
              "      <td>0</td>\n",
              "      <td>1</td>\n",
              "      <td>0</td>\n",
              "      <td>3</td>\n",
              "      <td>0</td>\n",
              "      <td>1</td>\n",
              "      <td>4</td>\n",
              "      <td>3</td>\n",
              "      <td>0</td>\n",
              "      <td>0</td>\n",
              "      <td>3</td>\n",
              "      <td>0</td>\n",
              "      <td>4</td>\n",
              "      <td>1</td>\n",
              "      <td>0</td>\n",
              "      <td>3</td>\n",
              "      <td>2</td>\n",
              "      <td>0</td>\n",
              "      <td>4</td>\n",
              "      <td>1</td>\n",
              "      <td>2</td>\n",
              "      <td>0</td>\n",
              "      <td>0</td>\n",
              "      <td>1</td>\n",
              "      <td>3</td>\n",
              "      <td>0</td>\n",
              "      <td>2</td>\n",
              "      <td>...</td>\n",
              "      <td>0</td>\n",
              "      <td>4</td>\n",
              "      <td>4</td>\n",
              "      <td>3</td>\n",
              "      <td>4</td>\n",
              "      <td>1</td>\n",
              "      <td>4</td>\n",
              "      <td>2</td>\n",
              "      <td>3</td>\n",
              "      <td>4</td>\n",
              "      <td>1</td>\n",
              "      <td>2</td>\n",
              "      <td>0</td>\n",
              "      <td>2</td>\n",
              "      <td>2</td>\n",
              "      <td>3</td>\n",
              "      <td>3</td>\n",
              "      <td>1</td>\n",
              "      <td>1</td>\n",
              "      <td>4</td>\n",
              "      <td>1</td>\n",
              "      <td>2</td>\n",
              "      <td>4</td>\n",
              "      <td>0</td>\n",
              "      <td>0</td>\n",
              "      <td>0</td>\n",
              "      <td>0</td>\n",
              "      <td>2</td>\n",
              "      <td>3</td>\n",
              "      <td>2</td>\n",
              "      <td>1</td>\n",
              "      <td>3</td>\n",
              "      <td>2</td>\n",
              "      <td>0</td>\n",
              "      <td>3</td>\n",
              "      <td>2</td>\n",
              "      <td>3</td>\n",
              "      <td>0</td>\n",
              "      <td>1</td>\n",
              "      <td>4</td>\n",
              "    </tr>\n",
              "    <tr>\n",
              "      <th>3</th>\n",
              "      <td>2052</td>\n",
              "      <td>K</td>\n",
              "      <td>2</td>\n",
              "      <td>1</td>\n",
              "      <td>3</td>\n",
              "      <td>3</td>\n",
              "      <td>3</td>\n",
              "      <td>4</td>\n",
              "      <td>3</td>\n",
              "      <td>0</td>\n",
              "      <td>0</td>\n",
              "      <td>2</td>\n",
              "      <td>3</td>\n",
              "      <td>2</td>\n",
              "      <td>3</td>\n",
              "      <td>4</td>\n",
              "      <td>4</td>\n",
              "      <td>4</td>\n",
              "      <td>0</td>\n",
              "      <td>1</td>\n",
              "      <td>4</td>\n",
              "      <td>2</td>\n",
              "      <td>2</td>\n",
              "      <td>0</td>\n",
              "      <td>1</td>\n",
              "      <td>4</td>\n",
              "      <td>3</td>\n",
              "      <td>1</td>\n",
              "      <td>3</td>\n",
              "      <td>0</td>\n",
              "      <td>2</td>\n",
              "      <td>3</td>\n",
              "      <td>2</td>\n",
              "      <td>4</td>\n",
              "      <td>3</td>\n",
              "      <td>1</td>\n",
              "      <td>1</td>\n",
              "      <td>4</td>\n",
              "      <td>0</td>\n",
              "      <td>0</td>\n",
              "      <td>...</td>\n",
              "      <td>0</td>\n",
              "      <td>4</td>\n",
              "      <td>1</td>\n",
              "      <td>1</td>\n",
              "      <td>2</td>\n",
              "      <td>3</td>\n",
              "      <td>2</td>\n",
              "      <td>3</td>\n",
              "      <td>3</td>\n",
              "      <td>0</td>\n",
              "      <td>0</td>\n",
              "      <td>1</td>\n",
              "      <td>3</td>\n",
              "      <td>3</td>\n",
              "      <td>0</td>\n",
              "      <td>2</td>\n",
              "      <td>0</td>\n",
              "      <td>0</td>\n",
              "      <td>2</td>\n",
              "      <td>3</td>\n",
              "      <td>2</td>\n",
              "      <td>2</td>\n",
              "      <td>3</td>\n",
              "      <td>1</td>\n",
              "      <td>1</td>\n",
              "      <td>2</td>\n",
              "      <td>4</td>\n",
              "      <td>0</td>\n",
              "      <td>1</td>\n",
              "      <td>2</td>\n",
              "      <td>3</td>\n",
              "      <td>0</td>\n",
              "      <td>3</td>\n",
              "      <td>2</td>\n",
              "      <td>4</td>\n",
              "      <td>1</td>\n",
              "      <td>0</td>\n",
              "      <td>4</td>\n",
              "      <td>4</td>\n",
              "      <td>4</td>\n",
              "    </tr>\n",
              "    <tr>\n",
              "      <th>4</th>\n",
              "      <td>2053</td>\n",
              "      <td>W</td>\n",
              "      <td>1</td>\n",
              "      <td>0</td>\n",
              "      <td>1</td>\n",
              "      <td>1</td>\n",
              "      <td>2</td>\n",
              "      <td>2</td>\n",
              "      <td>1</td>\n",
              "      <td>4</td>\n",
              "      <td>1</td>\n",
              "      <td>1</td>\n",
              "      <td>4</td>\n",
              "      <td>3</td>\n",
              "      <td>4</td>\n",
              "      <td>1</td>\n",
              "      <td>2</td>\n",
              "      <td>1</td>\n",
              "      <td>4</td>\n",
              "      <td>3</td>\n",
              "      <td>3</td>\n",
              "      <td>4</td>\n",
              "      <td>0</td>\n",
              "      <td>4</td>\n",
              "      <td>4</td>\n",
              "      <td>2</td>\n",
              "      <td>0</td>\n",
              "      <td>0</td>\n",
              "      <td>0</td>\n",
              "      <td>0</td>\n",
              "      <td>3</td>\n",
              "      <td>4</td>\n",
              "      <td>0</td>\n",
              "      <td>1</td>\n",
              "      <td>4</td>\n",
              "      <td>2</td>\n",
              "      <td>2</td>\n",
              "      <td>2</td>\n",
              "      <td>1</td>\n",
              "      <td>4</td>\n",
              "      <td>...</td>\n",
              "      <td>4</td>\n",
              "      <td>1</td>\n",
              "      <td>3</td>\n",
              "      <td>2</td>\n",
              "      <td>1</td>\n",
              "      <td>2</td>\n",
              "      <td>1</td>\n",
              "      <td>4</td>\n",
              "      <td>4</td>\n",
              "      <td>1</td>\n",
              "      <td>2</td>\n",
              "      <td>3</td>\n",
              "      <td>2</td>\n",
              "      <td>4</td>\n",
              "      <td>2</td>\n",
              "      <td>1</td>\n",
              "      <td>4</td>\n",
              "      <td>3</td>\n",
              "      <td>4</td>\n",
              "      <td>3</td>\n",
              "      <td>0</td>\n",
              "      <td>1</td>\n",
              "      <td>0</td>\n",
              "      <td>1</td>\n",
              "      <td>1</td>\n",
              "      <td>2</td>\n",
              "      <td>1</td>\n",
              "      <td>1</td>\n",
              "      <td>0</td>\n",
              "      <td>2</td>\n",
              "      <td>4</td>\n",
              "      <td>3</td>\n",
              "      <td>1</td>\n",
              "      <td>4</td>\n",
              "      <td>0</td>\n",
              "      <td>2</td>\n",
              "      <td>1</td>\n",
              "      <td>2</td>\n",
              "      <td>3</td>\n",
              "      <td>4</td>\n",
              "    </tr>\n",
              "  </tbody>\n",
              "</table>\n",
              "<p>5 rows × 786 columns</p>\n",
              "</div>"
            ],
            "text/plain": [
              "     id letter  0  1  2  3  4  5  ...  776  777  778  779  780  781  782  783\n",
              "0  2049      L  0  4  0  2  4  2  ...    4    2    2    4    3    4    1    4\n",
              "1  2050      C  4  1  4  0  1  1  ...    2    4    2    4    2    2    1    2\n",
              "2  2051      S  0  4  0  1  3  2  ...    2    0    3    2    3    0    1    4\n",
              "3  2052      K  2  1  3  3  3  4  ...    3    2    4    1    0    4    4    4\n",
              "4  2053      W  1  0  1  1  2  2  ...    1    4    0    2    1    2    3    4\n",
              "\n",
              "[5 rows x 786 columns]"
            ]
          },
          "metadata": {
            "tags": []
          },
          "execution_count": 52
        }
      ]
    },
    {
      "cell_type": "code",
      "metadata": {
        "id": "JZ_eiXC0imk-"
      },
      "source": [
        "\n",
        "X_test = (test.iloc[:,2:]/255.).values.reshape(-1, 28, 28,1)\n",
        "X_test_letter = pd.get_dummies(test.letter)"
      ],
      "execution_count": null,
      "outputs": []
    },
    {
      "cell_type": "code",
      "metadata": {
        "id": "HTUUb3Ani1is",
        "colab": {
          "base_uri": "https://localhost:8080/",
          "height": 204
        },
        "outputId": "3db54f83-2ff6-427f-d8ad-9a832212473c"
      },
      "source": [
        "X_test_letter.head()"
      ],
      "execution_count": null,
      "outputs": [
        {
          "output_type": "execute_result",
          "data": {
            "text/html": [
              "<div>\n",
              "<style scoped>\n",
              "    .dataframe tbody tr th:only-of-type {\n",
              "        vertical-align: middle;\n",
              "    }\n",
              "\n",
              "    .dataframe tbody tr th {\n",
              "        vertical-align: top;\n",
              "    }\n",
              "\n",
              "    .dataframe thead th {\n",
              "        text-align: right;\n",
              "    }\n",
              "</style>\n",
              "<table border=\"1\" class=\"dataframe\">\n",
              "  <thead>\n",
              "    <tr style=\"text-align: right;\">\n",
              "      <th></th>\n",
              "      <th>A</th>\n",
              "      <th>B</th>\n",
              "      <th>C</th>\n",
              "      <th>D</th>\n",
              "      <th>E</th>\n",
              "      <th>F</th>\n",
              "      <th>G</th>\n",
              "      <th>H</th>\n",
              "      <th>I</th>\n",
              "      <th>J</th>\n",
              "      <th>K</th>\n",
              "      <th>L</th>\n",
              "      <th>M</th>\n",
              "      <th>N</th>\n",
              "      <th>O</th>\n",
              "      <th>P</th>\n",
              "      <th>Q</th>\n",
              "      <th>R</th>\n",
              "      <th>S</th>\n",
              "      <th>T</th>\n",
              "      <th>U</th>\n",
              "      <th>V</th>\n",
              "      <th>W</th>\n",
              "      <th>X</th>\n",
              "      <th>Y</th>\n",
              "      <th>Z</th>\n",
              "    </tr>\n",
              "  </thead>\n",
              "  <tbody>\n",
              "    <tr>\n",
              "      <th>0</th>\n",
              "      <td>0</td>\n",
              "      <td>0</td>\n",
              "      <td>0</td>\n",
              "      <td>0</td>\n",
              "      <td>0</td>\n",
              "      <td>0</td>\n",
              "      <td>0</td>\n",
              "      <td>0</td>\n",
              "      <td>0</td>\n",
              "      <td>0</td>\n",
              "      <td>0</td>\n",
              "      <td>1</td>\n",
              "      <td>0</td>\n",
              "      <td>0</td>\n",
              "      <td>0</td>\n",
              "      <td>0</td>\n",
              "      <td>0</td>\n",
              "      <td>0</td>\n",
              "      <td>0</td>\n",
              "      <td>0</td>\n",
              "      <td>0</td>\n",
              "      <td>0</td>\n",
              "      <td>0</td>\n",
              "      <td>0</td>\n",
              "      <td>0</td>\n",
              "      <td>0</td>\n",
              "    </tr>\n",
              "    <tr>\n",
              "      <th>1</th>\n",
              "      <td>0</td>\n",
              "      <td>0</td>\n",
              "      <td>1</td>\n",
              "      <td>0</td>\n",
              "      <td>0</td>\n",
              "      <td>0</td>\n",
              "      <td>0</td>\n",
              "      <td>0</td>\n",
              "      <td>0</td>\n",
              "      <td>0</td>\n",
              "      <td>0</td>\n",
              "      <td>0</td>\n",
              "      <td>0</td>\n",
              "      <td>0</td>\n",
              "      <td>0</td>\n",
              "      <td>0</td>\n",
              "      <td>0</td>\n",
              "      <td>0</td>\n",
              "      <td>0</td>\n",
              "      <td>0</td>\n",
              "      <td>0</td>\n",
              "      <td>0</td>\n",
              "      <td>0</td>\n",
              "      <td>0</td>\n",
              "      <td>0</td>\n",
              "      <td>0</td>\n",
              "    </tr>\n",
              "    <tr>\n",
              "      <th>2</th>\n",
              "      <td>0</td>\n",
              "      <td>0</td>\n",
              "      <td>0</td>\n",
              "      <td>0</td>\n",
              "      <td>0</td>\n",
              "      <td>0</td>\n",
              "      <td>0</td>\n",
              "      <td>0</td>\n",
              "      <td>0</td>\n",
              "      <td>0</td>\n",
              "      <td>0</td>\n",
              "      <td>0</td>\n",
              "      <td>0</td>\n",
              "      <td>0</td>\n",
              "      <td>0</td>\n",
              "      <td>0</td>\n",
              "      <td>0</td>\n",
              "      <td>0</td>\n",
              "      <td>1</td>\n",
              "      <td>0</td>\n",
              "      <td>0</td>\n",
              "      <td>0</td>\n",
              "      <td>0</td>\n",
              "      <td>0</td>\n",
              "      <td>0</td>\n",
              "      <td>0</td>\n",
              "    </tr>\n",
              "    <tr>\n",
              "      <th>3</th>\n",
              "      <td>0</td>\n",
              "      <td>0</td>\n",
              "      <td>0</td>\n",
              "      <td>0</td>\n",
              "      <td>0</td>\n",
              "      <td>0</td>\n",
              "      <td>0</td>\n",
              "      <td>0</td>\n",
              "      <td>0</td>\n",
              "      <td>0</td>\n",
              "      <td>1</td>\n",
              "      <td>0</td>\n",
              "      <td>0</td>\n",
              "      <td>0</td>\n",
              "      <td>0</td>\n",
              "      <td>0</td>\n",
              "      <td>0</td>\n",
              "      <td>0</td>\n",
              "      <td>0</td>\n",
              "      <td>0</td>\n",
              "      <td>0</td>\n",
              "      <td>0</td>\n",
              "      <td>0</td>\n",
              "      <td>0</td>\n",
              "      <td>0</td>\n",
              "      <td>0</td>\n",
              "    </tr>\n",
              "    <tr>\n",
              "      <th>4</th>\n",
              "      <td>0</td>\n",
              "      <td>0</td>\n",
              "      <td>0</td>\n",
              "      <td>0</td>\n",
              "      <td>0</td>\n",
              "      <td>0</td>\n",
              "      <td>0</td>\n",
              "      <td>0</td>\n",
              "      <td>0</td>\n",
              "      <td>0</td>\n",
              "      <td>0</td>\n",
              "      <td>0</td>\n",
              "      <td>0</td>\n",
              "      <td>0</td>\n",
              "      <td>0</td>\n",
              "      <td>0</td>\n",
              "      <td>0</td>\n",
              "      <td>0</td>\n",
              "      <td>0</td>\n",
              "      <td>0</td>\n",
              "      <td>0</td>\n",
              "      <td>0</td>\n",
              "      <td>1</td>\n",
              "      <td>0</td>\n",
              "      <td>0</td>\n",
              "      <td>0</td>\n",
              "    </tr>\n",
              "  </tbody>\n",
              "</table>\n",
              "</div>"
            ],
            "text/plain": [
              "   A  B  C  D  E  F  G  H  I  J  K  L  M  N  O  P  Q  R  S  T  U  V  W  X  Y  Z\n",
              "0  0  0  0  0  0  0  0  0  0  0  0  1  0  0  0  0  0  0  0  0  0  0  0  0  0  0\n",
              "1  0  0  1  0  0  0  0  0  0  0  0  0  0  0  0  0  0  0  0  0  0  0  0  0  0  0\n",
              "2  0  0  0  0  0  0  0  0  0  0  0  0  0  0  0  0  0  0  1  0  0  0  0  0  0  0\n",
              "3  0  0  0  0  0  0  0  0  0  0  1  0  0  0  0  0  0  0  0  0  0  0  0  0  0  0\n",
              "4  0  0  0  0  0  0  0  0  0  0  0  0  0  0  0  0  0  0  0  0  0  0  1  0  0  0"
            ]
          },
          "metadata": {
            "tags": []
          },
          "execution_count": 71
        }
      ]
    },
    {
      "cell_type": "code",
      "metadata": {
        "id": "dY9AekQLQgRS"
      },
      "source": [
        "# 예측 진행\n",
        "# X_test = (test[[str(i) for i in range(784)]] / 255.).values.reshape(-1, 28, 28, 1)\n",
        "results = np.argmax(model.predict((X_test,X_test_letter)), axis=1)\n"
      ],
      "execution_count": null,
      "outputs": []
    },
    {
      "cell_type": "code",
      "metadata": {
        "id": "lMG43W6ZQkQG",
        "colab": {
          "base_uri": "https://localhost:8080/",
          "height": 35
        },
        "outputId": "ba08916e-5be9-45b9-afda-8d3186769675"
      },
      "source": [
        "test.shape"
      ],
      "execution_count": null,
      "outputs": [
        {
          "output_type": "execute_result",
          "data": {
            "text/plain": [
              "(20480, 786)"
            ]
          },
          "metadata": {
            "tags": []
          },
          "execution_count": 35
        }
      ]
    },
    {
      "cell_type": "code",
      "metadata": {
        "id": "RY7pP7QXQhO_"
      },
      "source": [
        "submission.digit = results\n",
        "submission.to_csv('0829_3.csv', index=False)"
      ],
      "execution_count": null,
      "outputs": []
    },
    {
      "cell_type": "code",
      "metadata": {
        "id": "YIjOL8jOewEt"
      },
      "source": [
        "def create_submodel():\n",
        "    model = Sequential()\n",
        "    model.add(Conv2D(32, kernel_size = 3, activation='relu', input_shape = (28, 28, 1)))\n",
        "    model.add(Conv2D(32, kernel_size = 3, activation='relu'))\n",
        "    model.add(Conv2D(32, kernel_size = 3, strides=2, padding='same', activation='relu'))\n",
        "    model.add(Dropout(0.4))\n",
        "\n",
        "    model.add(Conv2D(64, kernel_size = 3, activation='relu'))\n",
        "    model.add(Conv2D(64, kernel_size = 3, activation='relu'))\n",
        "    model.add(Conv2D(64, kernel_size = 5, strides=2, padding='same', activation='relu'))\n",
        "    # model.add(MaxPool2D(pool_size=(2,2)))\n",
        "    model.add(Dropout(0.4))\n",
        "\n",
        "    model.add(Conv2D(128, kernel_size = 3, activation='relu'))\n",
        "    model.add(Conv2D(256, kernel_size = 2, activation='relu'))\n",
        "    model.add(Flatten())\n",
        "    model.add(Dropout(0.4))\n",
        "    model.add(Dense(26, activation='softmax'))\n",
        "\n",
        "    # COMPILE WITH ADAM OPTIMIZER AND CROSS ENTROPY COST\n",
        "    model.compile(optimizer=\"adam\", loss=\"categorical_crossentropy\", metrics=[\"accuracy\"])\n",
        "    \n",
        "    return model"
      ],
      "execution_count": null,
      "outputs": []
    },
    {
      "cell_type": "code",
      "metadata": {
        "id": "oibJe4wIex4y"
      },
      "source": [
        "model = create_submodel()\n",
        "model.summary()"
      ],
      "execution_count": null,
      "outputs": []
    },
    {
      "cell_type": "code",
      "metadata": {
        "id": "2u3Ezf4FMtde"
      },
      "source": [
        "from __future__ import print_function\n",
        "import numpy as np\n",
        "import cv2\n",
        "from matplotlib import pyplot as plt\n",
        "from cycler import cycler\n",
        "from PIL import Image, ImageEnhance\n"
      ],
      "execution_count": null,
      "outputs": []
    },
    {
      "cell_type": "code",
      "metadata": {
        "id": "Jhm1TvzYM9-D"
      },
      "source": [
        "from google.colab.patches import cv2_imshow"
      ],
      "execution_count": null,
      "outputs": []
    },
    {
      "cell_type": "code",
      "metadata": {
        "id": "s3wAz4mhMuGl",
        "colab": {
          "base_uri": "https://localhost:8080/",
          "height": 220
        },
        "outputId": "812849cf-4f81-4bc1-a563-b6abec2cc4bc"
      },
      "source": [
        "\n",
        "image = cv2.imread(\"logo.png\")\n",
        "cv2_imshow(image)"
      ],
      "execution_count": null,
      "outputs": [
        {
          "output_type": "display_data",
          "data": {
            "image/png": "[encoded data removed]",
            "text/plain": [
              "<PIL.Image.Image image mode=RGB size=601x203 at 0x7F25000C0A90>"
            ]
          },
          "metadata": {
            "tags": []
          }
        }
      ]
    },
    {
      "cell_type": "code",
      "metadata": {
        "id": "l1-_8xWPNRYn",
        "colab": {
          "base_uri": "https://localhost:8080/",
          "height": 220
        },
        "outputId": "abb2b53b-1561-46ca-ceb1-212bded4a7f8"
      },
      "source": [
        "pil_image = Image.open('logo.png')\n",
        "contrast_enhancer = ImageEnhance.Contrast(pil_image)\n",
        "pil_enhanced_image = contrast_enhancer.enhance(2)\n",
        "enhanced_image = np.asarray(pil_enhanced_image)\n",
        "# r = cv2.split(enhanced_image)\n",
        "# enhanced_image = cv2.merge([ r])\n",
        "cv2_imshow(enhanced_image)\n",
        "# cv2.waitKey()"
      ],
      "execution_count": null,
      "outputs": [
        {
          "output_type": "display_data",
          "data": {
            "image/png": "[encoded data removed]",
            "text/plain": [
              "<PIL.Image.Image image mode=RGBA size=601x203 at 0x7F250001D470>"
            ]
          },
          "metadata": {
            "tags": []
          }
        }
      ]
    },
    {
      "cell_type": "code",
      "metadata": {
        "id": "gWScXpwKN-1u",
        "colab": {
          "base_uri": "https://localhost:8080/",
          "height": 35
        },
        "outputId": "3b0e39bc-2768-42d1-91f8-ff5f943f22ce"
      },
      "source": [
        "type(contrast_enhancer)"
      ],
      "execution_count": null,
      "outputs": [
        {
          "output_type": "execute_result",
          "data": {
            "text/plain": [
              "PIL.ImageEnhance.Contrast"
            ]
          },
          "metadata": {
            "tags": []
          },
          "execution_count": 44
        }
      ]
    },
    {
      "cell_type": "code",
      "metadata": {
        "id": "O6dr2rz6NzAG",
        "colab": {
          "base_uri": "https://localhost:8080/",
          "height": 35
        },
        "outputId": "96db6f02-815c-4271-8c24-d45ab197dd05"
      },
      "source": [
        "X_train2.shape"
      ],
      "execution_count": null,
      "outputs": [
        {
          "output_type": "execute_result",
          "data": {
            "text/plain": [
              "(1843, 28, 28, 1)"
            ]
          },
          "metadata": {
            "tags": []
          },
          "execution_count": 39
        }
      ]
    },
    {
      "cell_type": "code",
      "metadata": {
        "id": "s-J1R7TaN4D1",
        "colab": {
          "base_uri": "https://localhost:8080/",
          "height": 35
        },
        "outputId": "18edeae9-f79d-4d78-a4be-6e50917e8c5c"
      },
      "source": [
        "X_train2[0].shape"
      ],
      "execution_count": null,
      "outputs": [
        {
          "output_type": "execute_result",
          "data": {
            "text/plain": [
              "(28, 28, 1)"
            ]
          },
          "metadata": {
            "tags": []
          },
          "execution_count": 40
        }
      ]
    },
    {
      "cell_type": "code",
      "metadata": {
        "id": "CYaMvwBXNqfY",
        "colab": {
          "base_uri": "https://localhost:8080/",
          "height": 298
        },
        "outputId": "04e63693-51b5-4536-e1ef-6acdd5d56d04"
      },
      "source": [
        "ImageEnhance.Contrast(X_train2[0].shape)"
      ],
      "execution_count": null,
      "outputs": [
        {
          "output_type": "error",
          "ename": "AttributeError",
          "evalue": "ignored",
          "traceback": [
            "\u001b[0;31m---------------------------------------------------------------------------\u001b[0m",
            "\u001b[0;31mAttributeError\u001b[0m                            Traceback (most recent call last)",
            "\u001b[0;32m<ipython-input-41-b0b7bcdf305d>\u001b[0m in \u001b[0;36m<module>\u001b[0;34m()\u001b[0m\n\u001b[0;32m----> 1\u001b[0;31m \u001b[0mImageEnhance\u001b[0m\u001b[0;34m.\u001b[0m\u001b[0mContrast\u001b[0m\u001b[0;34m(\u001b[0m\u001b[0mX_train2\u001b[0m\u001b[0;34m[\u001b[0m\u001b[0;36m0\u001b[0m\u001b[0;34m]\u001b[0m\u001b[0;34m.\u001b[0m\u001b[0mshape\u001b[0m\u001b[0;34m)\u001b[0m\u001b[0;34m\u001b[0m\u001b[0;34m\u001b[0m\u001b[0m\n\u001b[0m",
            "\u001b[0;32m/usr/local/lib/python3.6/dist-packages/PIL/ImageEnhance.py\u001b[0m in \u001b[0;36m__init__\u001b[0;34m(self, image)\u001b[0m\n\u001b[1;32m     65\u001b[0m     \u001b[0;32mdef\u001b[0m \u001b[0m__init__\u001b[0m\u001b[0;34m(\u001b[0m\u001b[0mself\u001b[0m\u001b[0;34m,\u001b[0m \u001b[0mimage\u001b[0m\u001b[0;34m)\u001b[0m\u001b[0;34m:\u001b[0m\u001b[0;34m\u001b[0m\u001b[0;34m\u001b[0m\u001b[0m\n\u001b[1;32m     66\u001b[0m         \u001b[0mself\u001b[0m\u001b[0;34m.\u001b[0m\u001b[0mimage\u001b[0m \u001b[0;34m=\u001b[0m \u001b[0mimage\u001b[0m\u001b[0;34m\u001b[0m\u001b[0;34m\u001b[0m\u001b[0m\n\u001b[0;32m---> 67\u001b[0;31m         \u001b[0mmean\u001b[0m \u001b[0;34m=\u001b[0m \u001b[0mint\u001b[0m\u001b[0;34m(\u001b[0m\u001b[0mImageStat\u001b[0m\u001b[0;34m.\u001b[0m\u001b[0mStat\u001b[0m\u001b[0;34m(\u001b[0m\u001b[0mimage\u001b[0m\u001b[0;34m.\u001b[0m\u001b[0mconvert\u001b[0m\u001b[0;34m(\u001b[0m\u001b[0;34m\"L\"\u001b[0m\u001b[0;34m)\u001b[0m\u001b[0;34m)\u001b[0m\u001b[0;34m.\u001b[0m\u001b[0mmean\u001b[0m\u001b[0;34m[\u001b[0m\u001b[0;36m0\u001b[0m\u001b[0;34m]\u001b[0m \u001b[0;34m+\u001b[0m \u001b[0;36m0.5\u001b[0m\u001b[0;34m)\u001b[0m\u001b[0;34m\u001b[0m\u001b[0;34m\u001b[0m\u001b[0m\n\u001b[0m\u001b[1;32m     68\u001b[0m         \u001b[0mself\u001b[0m\u001b[0;34m.\u001b[0m\u001b[0mdegenerate\u001b[0m \u001b[0;34m=\u001b[0m \u001b[0mImage\u001b[0m\u001b[0;34m.\u001b[0m\u001b[0mnew\u001b[0m\u001b[0;34m(\u001b[0m\u001b[0;34m\"L\"\u001b[0m\u001b[0;34m,\u001b[0m \u001b[0mimage\u001b[0m\u001b[0;34m.\u001b[0m\u001b[0msize\u001b[0m\u001b[0;34m,\u001b[0m \u001b[0mmean\u001b[0m\u001b[0;34m)\u001b[0m\u001b[0;34m.\u001b[0m\u001b[0mconvert\u001b[0m\u001b[0;34m(\u001b[0m\u001b[0mimage\u001b[0m\u001b[0;34m.\u001b[0m\u001b[0mmode\u001b[0m\u001b[0;34m)\u001b[0m\u001b[0;34m\u001b[0m\u001b[0;34m\u001b[0m\u001b[0m\n\u001b[1;32m     69\u001b[0m \u001b[0;34m\u001b[0m\u001b[0m\n",
            "\u001b[0;31mAttributeError\u001b[0m: 'tuple' object has no attribute 'convert'"
          ]
        }
      ]
    },
    {
      "cell_type": "code",
      "metadata": {
        "id": "ECrPDo8uQDNd"
      },
      "source": [
        "import numpy as np \n",
        "\n",
        "def imhist(im):\n",
        "    m, n , x = im.shape\n",
        "    # print(1)\n",
        "    h = [0.0] * 256\n",
        "    for i in range(m):\n",
        "        for j in range(n):            \n",
        "            h[int(im[i, j])]+=1\n",
        "    return np.array(h)/(m*n)\n",
        "\n",
        "def cumsum(h):\n",
        "\t# finds cumulative sum of a numpy array, list\n",
        "    return [sum(h[:i+1]) for i in range(len(h))]\n",
        "\n",
        "def histeq(im):\n",
        "\t#calculate Histogram\n",
        "    # print(\"1\")\n",
        "    h = imhist(im)\n",
        "    # print(\"2\")\n",
        "    cdf = np.array(cumsum(h)) #cumulative distribution function\n",
        "    sk = np.uint8(255 * cdf) #finding transfer function values\n",
        "    # print(im.shape)\n",
        "    s1, s2 , s3 = im.shape\n",
        "    Y = np.zeros_like(im)\n",
        "    # print(\"3\")\n",
        "    # applying transfered values for each pixels\n",
        "    for i in range(0, s1):\n",
        "        for j in range(0, s2):\n",
        "            Y[i, j] = sk[im[i, j]]\n",
        "    H = imhist(Y)\n",
        "    # print(\"4\")\n",
        "\t#return transformed image, original and new istogram, \n",
        "\t# and transform function\n",
        "    return Y , h, H, sk"
      ],
      "execution_count": null,
      "outputs": []
    },
    {
      "cell_type": "code",
      "metadata": {
        "id": "0LPT4KPeYXBp"
      },
      "source": [
        "# X_train\n",
        "y =  (X_train.iloc[:,3:]).values.reshape(-1, 28, 28,1)"
      ],
      "execution_count": null,
      "outputs": []
    },
    {
      "cell_type": "code",
      "metadata": {
        "id": "gnMG3-koVo5p"
      },
      "source": [
        "def foo(image):\n",
        "    #size = 28 28\n",
        "    max = 0\n",
        "    min = 255\n",
        "    tmp = image.reshape(784)\n",
        "    tmp = sorted(tmp)\n",
        "\n",
        "    # print(sorted(tmp))\n",
        "    # print(len(sorted(tmp)))\n",
        "    max = tmp[770]\n",
        "    min = tmp[50]\n",
        "    # for x in range(28):\n",
        "    #     for y in range(28):\n",
        "    #         if max < int(image[x,y]) :\n",
        "    #             max = int(image[x,y])\n",
        "    #         if min > int(image[x,y]) :\n",
        "    #             min = int(image[x,y])\n",
        "    print(max-min,max,min);\n",
        "\n",
        "    if  max == min :\n",
        "        return\n",
        "    \n",
        "    for x in range(28):\n",
        "        for y in range(28):\n",
        "            image[x,y] = (image[x,y] - min) * 255 /(max-min)\n",
        "    return image\n",
        "                \n",
        "\n"
      ],
      "execution_count": null,
      "outputs": []
    },
    {
      "cell_type": "code",
      "metadata": {
        "id": "Kqji_uQdZzLf"
      },
      "source": [
        "def gethist(image):\n",
        "    hist = [0.0] * 256\n",
        "    flatten_image = image.reshape(784)\n",
        "    for x in flatten_image:\n",
        "        # print(int(x))\n",
        "        hist[int(x)] += 1\n",
        "\n",
        "    for x in range(256):\n",
        "        hist[x] = hist[x]/784\n",
        "    return hist\n",
        "\n",
        "\n",
        "def equalization(image):\n",
        "    hist = gethist(image)\n",
        "    \n",
        "    cdf = [0.0] *256\n",
        "    cdf[0] = hist[0]\n",
        "\n",
        "    for x in range(1,256):\n",
        "        cdf[x] = cdf[x-1]+hist[x]\n",
        "    \n",
        "    for x in range(28):\n",
        "        for y in range(28):\n",
        "            image[x,y] = limit(cdf[int(image[x,y])]*255)\n",
        "    return image\n",
        "def limit(x):\n",
        "    if x > 255: \n",
        "        return 255\n",
        "    elif x <0 :\n",
        "        return 0\n",
        "    return x\n",
        "\n",
        "    "
      ],
      "execution_count": null,
      "outputs": []
    },
    {
      "cell_type": "code",
      "metadata": {
        "id": "_L7VQuARc1tY"
      },
      "source": [
        "def reverse(image):\n",
        "    for x in range(28):\n",
        "        for y in range(28):\n",
        "            image[x,y] = 255-image[x,y]\n",
        "    return image"
      ],
      "execution_count": null,
      "outputs": []
    },
    {
      "cell_type": "code",
      "metadata": {
        "id": "QMsXMapwdAUF"
      },
      "source": [],
      "execution_count": null,
      "outputs": []
    },
    {
      "cell_type": "code",
      "metadata": {
        "id": "cPeyE1-lcZ7h"
      },
      "source": [
        "tmp_image = reverse(y[0])"
      ],
      "execution_count": null,
      "outputs": []
    },
    {
      "cell_type": "code",
      "metadata": {
        "id": "L4EYmqMbceT4",
        "colab": {
          "base_uri": "https://localhost:8080/",
          "height": 283
        },
        "outputId": "79a15408-3766-44a2-e6a5-add375fcd801"
      },
      "source": [
        "plt.imshow(tmp_image.reshape(28,28),cmap='gray')"
      ],
      "execution_count": null,
      "outputs": [
        {
          "output_type": "execute_result",
          "data": {
            "text/plain": [
              "<matplotlib.image.AxesImage at 0x7f24a3302390>"
            ]
          },
          "metadata": {
            "tags": []
          },
          "execution_count": 249
        },
        {
          "output_type": "display_data",
          "data": {
            "image/png": "[encoded data removed]",
            "text/plain": [
              "<Figure size 432x288 with 1 Axes>"
            ]
          },
          "metadata": {
            "tags": [],
            "needs_background": "light"
          }
        }
      ]
    },
    {
      "cell_type": "code",
      "metadata": {
        "id": "zYpdvgntae78",
        "colab": {
          "base_uri": "https://localhost:8080/",
          "height": 55
        },
        "outputId": "681ece95-c793-49e3-b8d9-db1d933a2890"
      },
      "source": [
        "print(gethist(y[0]))"
      ],
      "execution_count": null,
      "outputs": [
        {
          "output_type": "stream",
          "text": [
            "[0.14668367346938777, 0.16326530612244897, 0.16454081632653061, 0.14795918367346939, 0.16198979591836735, 0.007653061224489796, 0.00510204081632653, 0.0012755102040816326, 0.00510204081632653, 0.0, 0.003826530612244898, 0.0, 0.00510204081632653, 0.0, 0.0, 0.0, 0.0012755102040816326, 0.003826530612244898, 0.002551020408163265, 0.002551020408163265, 0.0012755102040816326, 0.002551020408163265, 0.0, 0.0012755102040816326, 0.0012755102040816326, 0.003826530612244898, 0.0012755102040816326, 0.0012755102040816326, 0.0, 0.002551020408163265, 0.0, 0.002551020408163265, 0.0, 0.0, 0.0, 0.0, 0.0, 0.0, 0.0, 0.0, 0.0012755102040816326, 0.0012755102040816326, 0.0, 0.0, 0.0, 0.0, 0.0012755102040816326, 0.0, 0.0, 0.0012755102040816326, 0.0, 0.0012755102040816326, 0.0012755102040816326, 0.0012755102040816326, 0.0, 0.0, 0.002551020408163265, 0.0, 0.0012755102040816326, 0.002551020408163265, 0.0012755102040816326, 0.0012755102040816326, 0.0012755102040816326, 0.0012755102040816326, 0.0012755102040816326, 0.0, 0.003826530612244898, 0.0012755102040816326, 0.0, 0.0012755102040816326, 0.0012755102040816326, 0.0, 0.0012755102040816326, 0.0, 0.0012755102040816326, 0.0, 0.0012755102040816326, 0.0, 0.0012755102040816326, 0.0, 0.0, 0.0, 0.00510204081632653, 0.0, 0.0, 0.002551020408163265, 0.0012755102040816326, 0.0, 0.002551020408163265, 0.0, 0.002551020408163265, 0.0, 0.0, 0.0012755102040816326, 0.0, 0.0, 0.0012755102040816326, 0.0, 0.0, 0.0, 0.0, 0.0, 0.0012755102040816326, 0.0012755102040816326, 0.002551020408163265, 0.0012755102040816326, 0.0, 0.0, 0.002551020408163265, 0.0012755102040816326, 0.002551020408163265, 0.0012755102040816326, 0.0012755102040816326, 0.0, 0.002551020408163265, 0.0, 0.0, 0.0, 0.0, 0.002551020408163265, 0.002551020408163265, 0.0012755102040816326, 0.0, 0.0012755102040816326, 0.002551020408163265, 0.003826530612244898, 0.003826530612244898, 0.0012755102040816326, 0.003826530612244898, 0.003826530612244898, 0.01020408163265306, 0.00510204081632653, 0.0, 0.0012755102040816326, 0.0012755102040816326, 0.0012755102040816326, 0.0, 0.0012755102040816326, 0.0, 0.0012755102040816326, 0.0, 0.0, 0.0012755102040816326, 0.0, 0.0, 0.0012755102040816326, 0.0, 0.0012755102040816326, 0.0, 0.0, 0.0, 0.0, 0.0012755102040816326, 0.0, 0.0, 0.0012755102040816326, 0.0, 0.0012755102040816326, 0.0, 0.0, 0.0012755102040816326, 0.0, 0.0, 0.002551020408163265, 0.0012755102040816326, 0.0, 0.0, 0.0012755102040816326, 0.0, 0.0, 0.0, 0.0012755102040816326, 0.0, 0.0, 0.0, 0.0, 0.0, 0.003826530612244898, 0.0, 0.0, 0.0012755102040816326, 0.0, 0.0012755102040816326, 0.0012755102040816326, 0.0012755102040816326, 0.0, 0.0, 0.0, 0.0, 0.0, 0.0, 0.0, 0.002551020408163265, 0.0, 0.0, 0.0, 0.0012755102040816326, 0.0, 0.0, 0.0012755102040816326, 0.0, 0.002551020408163265, 0.0, 0.0, 0.0, 0.0, 0.0, 0.0, 0.0, 0.0, 0.0, 0.0, 0.0, 0.0, 0.0012755102040816326, 0.0, 0.0, 0.0, 0.0, 0.0, 0.0, 0.0, 0.0, 0.0, 0.0, 0.0012755102040816326, 0.0, 0.0, 0.0, 0.0, 0.0, 0.0012755102040816326, 0.0, 0.0, 0.0, 0.0, 0.0, 0.0, 0.0, 0.0, 0.0, 0.0, 0.0, 0.0, 0.0, 0.0, 0.002551020408163265, 0.0, 0.0, 0.0012755102040816326, 0.0012755102040816326, 0.0, 0.0012755102040816326, 0.0, 0.0, 0.0]\n"
          ],
          "name": "stdout"
        }
      ]
    },
    {
      "cell_type": "code",
      "metadata": {
        "id": "tytvZx2UWkUn",
        "colab": {
          "base_uri": "https://localhost:8080/",
          "height": 35
        },
        "outputId": "4d46cb6b-d6ea-4fd2-8c9c-68012eccf854"
      },
      "source": [
        "tmp_img = foo(y[0])"
      ],
      "execution_count": null,
      "outputs": [
        {
          "output_type": "stream",
          "text": [
            "192 192 0\n"
          ],
          "name": "stdout"
        }
      ]
    },
    {
      "cell_type": "code",
      "metadata": {
        "id": "q-G9sM2uXLXu",
        "colab": {
          "base_uri": "https://localhost:8080/",
          "height": 283
        },
        "outputId": "03b60f92-cc65-4d31-e3e1-3414e5dcfde9"
      },
      "source": [
        "plt.imshow(y[0].reshape(28,28),cmap='gray')"
      ],
      "execution_count": null,
      "outputs": [
        {
          "output_type": "execute_result",
          "data": {
            "text/plain": [
              "<matplotlib.image.AxesImage at 0x7f24a3324860>"
            ]
          },
          "metadata": {
            "tags": []
          },
          "execution_count": 247
        },
        {
          "output_type": "display_data",
          "data": {
            "image/png": "[encoded data removed]",
            "text/plain": [
              "<Figure size 432x288 with 1 Axes>"
            ]
          },
          "metadata": {
            "tags": [],
            "needs_background": "light"
          }
        }
      ]
    },
    {
      "cell_type": "code",
      "metadata": {
        "id": "Qw2r232MXAP_",
        "colab": {
          "base_uri": "https://localhost:8080/",
          "height": 283
        },
        "outputId": "4a2d5d3c-9e4c-4301-c7b6-775353c3d499"
      },
      "source": [
        "plt.imshow(tmp_img.reshape(28,28),cmap=\"gray\")"
      ],
      "execution_count": null,
      "outputs": [
        {
          "output_type": "execute_result",
          "data": {
            "text/plain": [
              "<matplotlib.image.AxesImage at 0x7f24a350cd68>"
            ]
          },
          "metadata": {
            "tags": []
          },
          "execution_count": 219
        },
        {
          "output_type": "display_data",
          "data": {
            "image/png": "[encoded data removed]",
            "text/plain": [
              "<Figure size 432x288 with 1 Axes>"
            ]
          },
          "metadata": {
            "tags": [],
            "needs_background": "light"
          }
        }
      ]
    },
    {
      "cell_type": "code",
      "metadata": {
        "id": "yu2or3DtXb9P",
        "colab": {
          "base_uri": "https://localhost:8080/",
          "height": 35
        },
        "outputId": "11258ce8-e2ea-48d7-e53f-786aa2bf839a"
      },
      "source": [
        "tmp_img[0,0]"
      ],
      "execution_count": null,
      "outputs": [
        {
          "output_type": "execute_result",
          "data": {
            "text/plain": [
              "array([4])"
            ]
          },
          "metadata": {
            "tags": []
          },
          "execution_count": 154
        }
      ]
    },
    {
      "cell_type": "code",
      "metadata": {
        "id": "dYBps302Xhvp",
        "colab": {
          "base_uri": "https://localhost:8080/",
          "height": 172
        },
        "outputId": "7eb9086f-1553-441e-b17b-b43e36c9c2cc"
      },
      "source": [],
      "execution_count": null,
      "outputs": [
        {
          "output_type": "error",
          "ename": "TypeError",
          "evalue": "ignored",
          "traceback": [
            "\u001b[0;31m---------------------------------------------------------------------------\u001b[0m",
            "\u001b[0;31mTypeError\u001b[0m                                 Traceback (most recent call last)",
            "\u001b[0;32m<ipython-input-156-a6907b997952>\u001b[0m in \u001b[0;36m<module>\u001b[0;34m()\u001b[0m\n\u001b[0;32m----> 1\u001b[0;31m \u001b[0my\u001b[0m\u001b[0;34m[\u001b[0m\u001b[0;36m0\u001b[0m\u001b[0;34m,\u001b[0m\u001b[0;36m0\u001b[0m\u001b[0;34m]\u001b[0m\u001b[0;34m\u001b[0m\u001b[0;34m\u001b[0m\u001b[0m\n\u001b[0m",
            "\u001b[0;31mTypeError\u001b[0m: 'int' object is not subscriptable"
          ]
        }
      ]
    },
    {
      "cell_type": "code",
      "metadata": {
        "id": "MiPJsaKhXPYQ",
        "colab": {
          "base_uri": "https://localhost:8080/",
          "height": 1000
        },
        "outputId": "cadbd0aa-a02f-4e98-b240-ceb1cd4d9371"
      },
      "source": [
        "\n",
        "for x in range(28):\n",
        "    for t in range(28):\n",
        "        if y[0,x,t] != tmp_img[x,t]:\n",
        "            print(x,t,y[0,x,t],tmp_img[x,t],-y[0,x,t]+tmp_img[x,t])"
      ],
      "execution_count": null,
      "outputs": [
        {
          "output_type": "stream",
          "text": [
            "3 20 [128] [129] [1]\n",
            "4 19 [155] [156] [1]\n",
            "4 20 [163] [164] [1]\n",
            "5 16 [111] [112] [1]\n",
            "5 17 [130] [131] [1]\n",
            "5 18 [201] [203] [2]\n",
            "5 19 [246] [248] [2]\n",
            "5 20 [225] [227] [2]\n",
            "5 21 [134] [135] [1]\n",
            "6 16 [139] [140] [1]\n",
            "6 17 [177] [179] [2]\n",
            "6 18 [184] [186] [2]\n",
            "6 19 [145] [146] [1]\n",
            "6 20 [102] [103] [1]\n",
            "7 8 [114] [115] [1]\n",
            "7 9 [125] [126] [1]\n",
            "7 16 [160] [161] [1]\n",
            "7 17 [183] [185] [2]\n",
            "7 18 [135] [136] [1]\n",
            "7 19 [104] [105] [1]\n",
            "8 8 [103] [104] [1]\n",
            "8 9 [125] [126] [1]\n",
            "8 16 [177] [179] [2]\n",
            "8 17 [163] [164] [1]\n",
            "8 18 [123] [124] [1]\n",
            "9 9 [128] [129] [1]\n",
            "9 10 [105] [106] [1]\n",
            "9 16 [131] [132] [1]\n",
            "9 17 [133] [134] [1]\n",
            "9 18 [90] [91] [1]\n",
            "10 9 [114] [115] [1]\n",
            "10 10 [128] [129] [1]\n",
            "10 11 [85] [86] [1]\n",
            "10 14 [93] [94] [1]\n",
            "10 16 [127] [128] [1]\n",
            "10 17 [110] [111] [1]\n",
            "11 9 [108] [109] [1]\n",
            "11 10 [130] [131] [1]\n",
            "11 11 [110] [111] [1]\n",
            "11 14 [157] [158] [1]\n",
            "11 15 [167] [168] [1]\n",
            "11 16 [131] [132] [1]\n",
            "12 9 [88] [89] [1]\n",
            "12 10 [129] [130] [1]\n",
            "12 11 [121] [122] [1]\n",
            "12 14 [201] [203] [2]\n",
            "12 15 [231] [233] [2]\n",
            "12 16 [137] [138] [1]\n",
            "13 10 [126] [127] [1]\n",
            "13 11 [126] [127] [1]\n",
            "13 14 [214] [216] [2]\n",
            "13 15 [252] [255] [3]\n",
            "13 16 [171] [173] [2]\n",
            "14 10 [109] [110] [1]\n",
            "14 11 [119] [120] [1]\n",
            "14 12 [131] [132] [1]\n",
            "14 13 [130] [131] [1]\n",
            "14 14 [180] [182] [2]\n",
            "14 15 [196] [198] [2]\n",
            "14 16 [129] [130] [1]\n",
            "15 12 [130] [131] [1]\n",
            "15 13 [131] [132] [1]\n",
            "15 14 [126] [127] [1]\n",
            "16 12 [129] [130] [1]\n",
            "16 13 [130] [131] [1]\n",
            "16 14 [88] [89] [1]\n",
            "17 11 [119] [120] [1]\n",
            "17 12 [124] [125] [1]\n",
            "17 13 [85] [86] [1]\n",
            "18 10 [108] [109] [1]\n",
            "18 11 [130] [131] [1]\n",
            "18 12 [104] [105] [1]\n",
            "19 8 [90] [91] [1]\n",
            "19 9 [177] [179] [2]\n",
            "19 10 [192] [194] [2]\n",
            "19 11 [152] [153] [1]\n",
            "20 7 [130] [131] [1]\n",
            "20 8 [192] [194] [2]\n",
            "20 9 [246] [248] [2]\n",
            "20 10 [199] [201] [2]\n",
            "20 11 [120] [121] [1]\n",
            "21 7 [142] [143] [1]\n",
            "21 8 [249] [251] [2]\n",
            "21 9 [250] [252] [2]\n",
            "21 10 [182] [184] [2]\n",
            "22 7 [96] [97] [1]\n",
            "22 8 [147] [148] [1]\n",
            "22 9 [164] [165] [1]\n",
            "22 10 [130] [131] [1]\n",
            "22 11 [112] [113] [1]\n",
            "23 7 [124] [125] [1]\n",
            "23 8 [125] [126] [1]\n",
            "23 9 [86] [87] [1]\n",
            "24 7 [120] [121] [1]\n"
          ],
          "name": "stdout"
        }
      ]
    },
    {
      "cell_type": "code",
      "metadata": {
        "id": "f4iz2zgEWuam",
        "colab": {
          "base_uri": "https://localhost:8080/",
          "height": 35
        },
        "outputId": "677b4485-df18-4583-a4cb-a079777a0da4"
      },
      "source": [
        "new_img[0,0]"
      ],
      "execution_count": null,
      "outputs": [
        {
          "output_type": "execute_result",
          "data": {
            "text/plain": [
              "array([2])"
            ]
          },
          "metadata": {
            "tags": []
          },
          "execution_count": 140
        }
      ]
    },
    {
      "cell_type": "code",
      "metadata": {
        "id": "-GrU56_SWKi0"
      },
      "source": [],
      "execution_count": null,
      "outputs": []
    },
    {
      "cell_type": "code",
      "metadata": {
        "id": "ICW45DVGXvH1"
      },
      "source": [
        "y[0]"
      ],
      "execution_count": null,
      "outputs": []
    },
    {
      "cell_type": "code",
      "metadata": {
        "id": "7yfZeuL5WA2e"
      },
      "source": [
        "max = 1"
      ],
      "execution_count": null,
      "outputs": []
    },
    {
      "cell_type": "code",
      "metadata": {
        "id": "DtP8xpGcWB9v",
        "colab": {
          "base_uri": "https://localhost:8080/",
          "height": 35
        },
        "outputId": "6106ca9c-af84-4d9b-e596-9d7cb043b20f"
      },
      "source": [
        "print(max)"
      ],
      "execution_count": null,
      "outputs": [
        {
          "output_type": "stream",
          "text": [
            "1\n"
          ],
          "name": "stdout"
        }
      ]
    },
    {
      "cell_type": "code",
      "metadata": {
        "id": "NCIIVHBEVZuQ"
      },
      "source": [
        "(현재값 -최소값)*255 / (최대값-최소값))"
      ],
      "execution_count": null,
      "outputs": []
    },
    {
      "cell_type": "code",
      "metadata": {
        "id": "-4pfnCi-Qb4w"
      },
      "source": [
        "new_img, h, new_h, sk = histeq(y[0])"
      ],
      "execution_count": null,
      "outputs": []
    },
    {
      "cell_type": "code",
      "metadata": {
        "id": "kRGI_WCKUFJo",
        "colab": {
          "base_uri": "https://localhost:8080/",
          "height": 283
        },
        "outputId": "6b7d2af2-a993-421f-d690-4c4885e09e22"
      },
      "source": [
        "plt.plot(h)"
      ],
      "execution_count": null,
      "outputs": [
        {
          "output_type": "execute_result",
          "data": {
            "text/plain": [
              "[<matplotlib.lines.Line2D at 0x7f24a3b76cc0>]"
            ]
          },
          "metadata": {
            "tags": []
          },
          "execution_count": 125
        },
        {
          "output_type": "display_data",
          "data": {
            "image/png": "[encoded data removed]",
            "text/plain": [
              "<Figure size 432x288 with 1 Axes>"
            ]
          },
          "metadata": {
            "tags": [],
            "needs_background": "light"
          }
        }
      ]
    },
    {
      "cell_type": "code",
      "metadata": {
        "id": "e9DEafb_UZXe",
        "colab": {
          "base_uri": "https://localhost:8080/",
          "height": 283
        },
        "outputId": "35204306-7d15-4a6f-b842-521641585617"
      },
      "source": [
        "plt.plot(new_h)"
      ],
      "execution_count": null,
      "outputs": [
        {
          "output_type": "execute_result",
          "data": {
            "text/plain": [
              "[<matplotlib.lines.Line2D at 0x7f24a3a87f60>]"
            ]
          },
          "metadata": {
            "tags": []
          },
          "execution_count": 126
        },
        {
          "output_type": "display_data",
          "data": {
            "image/png": "[encoded data removed]",
            "text/plain": [
              "<Figure size 432x288 with 1 Axes>"
            ]
          },
          "metadata": {
            "tags": [],
            "needs_background": "light"
          }
        }
      ]
    },
    {
      "cell_type": "code",
      "metadata": {
        "id": "mGqTwsykT2Oy",
        "colab": {
          "base_uri": "https://localhost:8080/",
          "height": 283
        },
        "outputId": "2c45808e-086c-4246-a793-d8ec0cdd1447"
      },
      "source": [],
      "execution_count": null,
      "outputs": [
        {
          "output_type": "execute_result",
          "data": {
            "text/plain": [
              "<matplotlib.image.AxesImage at 0x7f24a3c7d390>"
            ]
          },
          "metadata": {
            "tags": []
          },
          "execution_count": 119
        },
        {
          "output_type": "display_data",
          "data": {
            "image/png": "[encoded data removed]",
            "text/plain": [
              "<Figure size 432x288 with 1 Axes>"
            ]
          },
          "metadata": {
            "tags": [],
            "needs_background": "light"
          }
        }
      ]
    },
    {
      "cell_type": "code",
      "metadata": {
        "id": "a9tPNvAJTmP0",
        "colab": {
          "base_uri": "https://localhost:8080/",
          "height": 283
        },
        "outputId": "659b0ef6-5396-49ec-c4b6-9057c246ff73"
      },
      "source": [
        "plt.imshow(new_img.reshape(28,28),cmap='gray')"
      ],
      "execution_count": null,
      "outputs": [
        {
          "output_type": "execute_result",
          "data": {
            "text/plain": [
              "<matplotlib.image.AxesImage at 0x7f24a3bd8390>"
            ]
          },
          "metadata": {
            "tags": []
          },
          "execution_count": 120
        },
        {
          "output_type": "display_data",
          "data": {
            "image/png": "[encoded data removed]",
            "text/plain": [
              "<Figure size 432x288 with 1 Axes>"
            ]
          },
          "metadata": {
            "tags": [],
            "needs_background": "light"
          }
        }
      ]
    },
    {
      "cell_type": "code",
      "metadata": {
        "id": "h6n1oXCtTLEo",
        "colab": {
          "base_uri": "https://localhost:8080/",
          "height": 35
        },
        "outputId": "38a9be41-2f17-4590-c455-c543c1233ffb"
      },
      "source": [
        "new_img.shape"
      ],
      "execution_count": null,
      "outputs": [
        {
          "output_type": "execute_result",
          "data": {
            "text/plain": [
              "(28, 28, 1)"
            ]
          },
          "metadata": {
            "tags": []
          },
          "execution_count": 114
        }
      ]
    },
    {
      "cell_type": "code",
      "metadata": {
        "id": "KdY-G95UTGeo"
      },
      "source": [],
      "execution_count": null,
      "outputs": []
    },
    {
      "cell_type": "code",
      "metadata": {
        "id": "GOEwTXekRyAa",
        "colab": {
          "base_uri": "https://localhost:8080/",
          "height": 35
        },
        "outputId": "5bd1d5fc-3d37-4859-a964-ae48ce322561"
      },
      "source": [
        "y[0,0,0]+1"
      ],
      "execution_count": null,
      "outputs": [
        {
          "output_type": "execute_result",
          "data": {
            "text/plain": [
              "array([5])"
            ]
          },
          "metadata": {
            "tags": []
          },
          "execution_count": 91
        }
      ]
    },
    {
      "cell_type": "code",
      "metadata": {
        "id": "ra9SVi0GQpEr"
      },
      "source": [],
      "execution_count": null,
      "outputs": []
    },
    {
      "cell_type": "code",
      "metadata": {
        "id": "de4CtI4gQ27b",
        "colab": {
          "base_uri": "https://localhost:8080/",
          "height": 736
        },
        "outputId": "81920d26-573f-432e-cea6-e14caf014680"
      },
      "source": [],
      "execution_count": null,
      "outputs": [
        {
          "output_type": "error",
          "ename": "KeyError",
          "evalue": "ignored",
          "traceback": [
            "\u001b[0;31m---------------------------------------------------------------------------\u001b[0m",
            "\u001b[0;31mKeyError\u001b[0m                                  Traceback (most recent call last)",
            "\u001b[0;32m/usr/local/lib/python3.6/dist-packages/pandas/core/indexes/base.py\u001b[0m in \u001b[0;36mget_loc\u001b[0;34m(self, key, method, tolerance)\u001b[0m\n\u001b[1;32m   2645\u001b[0m             \u001b[0;32mtry\u001b[0m\u001b[0;34m:\u001b[0m\u001b[0;34m\u001b[0m\u001b[0;34m\u001b[0m\u001b[0m\n\u001b[0;32m-> 2646\u001b[0;31m                 \u001b[0;32mreturn\u001b[0m \u001b[0mself\u001b[0m\u001b[0;34m.\u001b[0m\u001b[0m_engine\u001b[0m\u001b[0;34m.\u001b[0m\u001b[0mget_loc\u001b[0m\u001b[0;34m(\u001b[0m\u001b[0mkey\u001b[0m\u001b[0;34m)\u001b[0m\u001b[0;34m\u001b[0m\u001b[0;34m\u001b[0m\u001b[0m\n\u001b[0m\u001b[1;32m   2647\u001b[0m             \u001b[0;32mexcept\u001b[0m \u001b[0mKeyError\u001b[0m\u001b[0;34m:\u001b[0m\u001b[0;34m\u001b[0m\u001b[0;34m\u001b[0m\u001b[0m\n",
            "\u001b[0;32mpandas/_libs/index.pyx\u001b[0m in \u001b[0;36mpandas._libs.index.IndexEngine.get_loc\u001b[0;34m()\u001b[0m\n",
            "\u001b[0;32mpandas/_libs/index.pyx\u001b[0m in \u001b[0;36mpandas._libs.index.IndexEngine.get_loc\u001b[0;34m()\u001b[0m\n",
            "\u001b[0;32mpandas/_libs/hashtable_class_helper.pxi\u001b[0m in \u001b[0;36mpandas._libs.hashtable.PyObjectHashTable.get_item\u001b[0;34m()\u001b[0m\n",
            "\u001b[0;32mpandas/_libs/hashtable_class_helper.pxi\u001b[0m in \u001b[0;36mpandas._libs.hashtable.PyObjectHashTable.get_item\u001b[0;34m()\u001b[0m\n",
            "\u001b[0;31mKeyError\u001b[0m: 0",
            "\nDuring handling of the above exception, another exception occurred:\n",
            "\u001b[0;31mKeyError\u001b[0m                                  Traceback (most recent call last)",
            "\u001b[0;32m<ipython-input-54-178be3ec398f>\u001b[0m in \u001b[0;36m<module>\u001b[0;34m()\u001b[0m\n\u001b[0;32m----> 1\u001b[0;31m \u001b[0mhisteq\u001b[0m\u001b[0;34m(\u001b[0m\u001b[0mX_train\u001b[0m\u001b[0;34m[\u001b[0m\u001b[0;36m0\u001b[0m\u001b[0;34m]\u001b[0m\u001b[0;34m)\u001b[0m\u001b[0;34m\u001b[0m\u001b[0;34m\u001b[0m\u001b[0m\n\u001b[0m",
            "\u001b[0;32m/usr/local/lib/python3.6/dist-packages/pandas/core/frame.py\u001b[0m in \u001b[0;36m__getitem__\u001b[0;34m(self, key)\u001b[0m\n\u001b[1;32m   2798\u001b[0m             \u001b[0;32mif\u001b[0m \u001b[0mself\u001b[0m\u001b[0;34m.\u001b[0m\u001b[0mcolumns\u001b[0m\u001b[0;34m.\u001b[0m\u001b[0mnlevels\u001b[0m \u001b[0;34m>\u001b[0m \u001b[0;36m1\u001b[0m\u001b[0;34m:\u001b[0m\u001b[0;34m\u001b[0m\u001b[0;34m\u001b[0m\u001b[0m\n\u001b[1;32m   2799\u001b[0m                 \u001b[0;32mreturn\u001b[0m \u001b[0mself\u001b[0m\u001b[0;34m.\u001b[0m\u001b[0m_getitem_multilevel\u001b[0m\u001b[0;34m(\u001b[0m\u001b[0mkey\u001b[0m\u001b[0;34m)\u001b[0m\u001b[0;34m\u001b[0m\u001b[0;34m\u001b[0m\u001b[0m\n\u001b[0;32m-> 2800\u001b[0;31m             \u001b[0mindexer\u001b[0m \u001b[0;34m=\u001b[0m \u001b[0mself\u001b[0m\u001b[0;34m.\u001b[0m\u001b[0mcolumns\u001b[0m\u001b[0;34m.\u001b[0m\u001b[0mget_loc\u001b[0m\u001b[0;34m(\u001b[0m\u001b[0mkey\u001b[0m\u001b[0;34m)\u001b[0m\u001b[0;34m\u001b[0m\u001b[0;34m\u001b[0m\u001b[0m\n\u001b[0m\u001b[1;32m   2801\u001b[0m             \u001b[0;32mif\u001b[0m \u001b[0mis_integer\u001b[0m\u001b[0;34m(\u001b[0m\u001b[0mindexer\u001b[0m\u001b[0;34m)\u001b[0m\u001b[0;34m:\u001b[0m\u001b[0;34m\u001b[0m\u001b[0;34m\u001b[0m\u001b[0m\n\u001b[1;32m   2802\u001b[0m                 \u001b[0mindexer\u001b[0m \u001b[0;34m=\u001b[0m \u001b[0;34m[\u001b[0m\u001b[0mindexer\u001b[0m\u001b[0;34m]\u001b[0m\u001b[0;34m\u001b[0m\u001b[0;34m\u001b[0m\u001b[0m\n",
            "\u001b[0;32m/usr/local/lib/python3.6/dist-packages/pandas/core/indexes/base.py\u001b[0m in \u001b[0;36mget_loc\u001b[0;34m(self, key, method, tolerance)\u001b[0m\n\u001b[1;32m   2646\u001b[0m                 \u001b[0;32mreturn\u001b[0m \u001b[0mself\u001b[0m\u001b[0;34m.\u001b[0m\u001b[0m_engine\u001b[0m\u001b[0;34m.\u001b[0m\u001b[0mget_loc\u001b[0m\u001b[0;34m(\u001b[0m\u001b[0mkey\u001b[0m\u001b[0;34m)\u001b[0m\u001b[0;34m\u001b[0m\u001b[0;34m\u001b[0m\u001b[0m\n\u001b[1;32m   2647\u001b[0m             \u001b[0;32mexcept\u001b[0m \u001b[0mKeyError\u001b[0m\u001b[0;34m:\u001b[0m\u001b[0;34m\u001b[0m\u001b[0;34m\u001b[0m\u001b[0m\n\u001b[0;32m-> 2648\u001b[0;31m                 \u001b[0;32mreturn\u001b[0m \u001b[0mself\u001b[0m\u001b[0;34m.\u001b[0m\u001b[0m_engine\u001b[0m\u001b[0;34m.\u001b[0m\u001b[0mget_loc\u001b[0m\u001b[0;34m(\u001b[0m\u001b[0mself\u001b[0m\u001b[0;34m.\u001b[0m\u001b[0m_maybe_cast_indexer\u001b[0m\u001b[0;34m(\u001b[0m\u001b[0mkey\u001b[0m\u001b[0;34m)\u001b[0m\u001b[0;34m)\u001b[0m\u001b[0;34m\u001b[0m\u001b[0;34m\u001b[0m\u001b[0m\n\u001b[0m\u001b[1;32m   2649\u001b[0m         \u001b[0mindexer\u001b[0m \u001b[0;34m=\u001b[0m \u001b[0mself\u001b[0m\u001b[0;34m.\u001b[0m\u001b[0mget_indexer\u001b[0m\u001b[0;34m(\u001b[0m\u001b[0;34m[\u001b[0m\u001b[0mkey\u001b[0m\u001b[0;34m]\u001b[0m\u001b[0;34m,\u001b[0m \u001b[0mmethod\u001b[0m\u001b[0;34m=\u001b[0m\u001b[0mmethod\u001b[0m\u001b[0;34m,\u001b[0m \u001b[0mtolerance\u001b[0m\u001b[0;34m=\u001b[0m\u001b[0mtolerance\u001b[0m\u001b[0;34m)\u001b[0m\u001b[0;34m\u001b[0m\u001b[0;34m\u001b[0m\u001b[0m\n\u001b[1;32m   2650\u001b[0m         \u001b[0;32mif\u001b[0m \u001b[0mindexer\u001b[0m\u001b[0;34m.\u001b[0m\u001b[0mndim\u001b[0m \u001b[0;34m>\u001b[0m \u001b[0;36m1\u001b[0m \u001b[0;32mor\u001b[0m \u001b[0mindexer\u001b[0m\u001b[0;34m.\u001b[0m\u001b[0msize\u001b[0m \u001b[0;34m>\u001b[0m \u001b[0;36m1\u001b[0m\u001b[0;34m:\u001b[0m\u001b[0;34m\u001b[0m\u001b[0;34m\u001b[0m\u001b[0m\n",
            "\u001b[0;32mpandas/_libs/index.pyx\u001b[0m in \u001b[0;36mpandas._libs.index.IndexEngine.get_loc\u001b[0;34m()\u001b[0m\n",
            "\u001b[0;32mpandas/_libs/index.pyx\u001b[0m in \u001b[0;36mpandas._libs.index.IndexEngine.get_loc\u001b[0;34m()\u001b[0m\n",
            "\u001b[0;32mpandas/_libs/hashtable_class_helper.pxi\u001b[0m in \u001b[0;36mpandas._libs.hashtable.PyObjectHashTable.get_item\u001b[0;34m()\u001b[0m\n",
            "\u001b[0;32mpandas/_libs/hashtable_class_helper.pxi\u001b[0m in \u001b[0;36mpandas._libs.hashtable.PyObjectHashTable.get_item\u001b[0;34m()\u001b[0m\n",
            "\u001b[0;31mKeyError\u001b[0m: 0"
          ]
        }
      ]
    },
    {
      "cell_type": "code",
      "metadata": {
        "id": "1t8pGviCQaMN"
      },
      "source": [
        "h"
      ],
      "execution_count": null,
      "outputs": []
    }
  ]
}